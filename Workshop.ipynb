{
 "cells": [
  {
   "cell_type": "markdown",
   "id": "815dce5c",
   "metadata": {},
   "source": [
    "# R workshop\n",
    "authors: \n",
    "* Christian Wanschers \n",
    "* Bastiaan Verheul\n",
    "* Nino van Alphen\n",
    "* Sara Eftekhar Azam\n"
   ]
  },
  {
   "cell_type": "markdown",
   "id": "fe5b3777",
   "metadata": {},
   "source": [
    "# Introduction\n",
    "In this workshop, we are going to learn you the basics of R and its statistical capabilities!\n",
    "\n",
    "## Loading packages\n",
    "First, we have to install some packages.\n",
    "The packages we are going to use are:\n",
    "\n",
    "* `Tidyverse`: A collection of a(r)R packages designed for data science. It includes some example datasets too.\n",
    "* `ggplot2`: Used for creating elegant data visualizations.\n",
    "* `dplyr`: Provides a set of functions for data manipulation tasks such as filtering, grouping, summarizing, and mutating data frames.\n",
    "* `magrittr`: Provides the pipe operator %>%, which allows you to chain together multiple operations.\n",
    "\n",
    "All packages can be directly installed by running them in a .R-file or a codeblock below:"
   ]
  },
  {
   "cell_type": "code",
   "execution_count": 1,
   "id": "4f20f315",
   "metadata": {
    "vscode": {
     "languageId": "r"
    }
   },
   "outputs": [
    {
     "name": "stderr",
     "output_type": "stream",
     "text": [
      "Installing package into 'C:/Users/Christian/AppData/Local/R/win-library/4.4'\n",
      "(as 'lib' is unspecified)\n",
      "\n"
     ]
    },
    {
     "name": "stdout",
     "output_type": "stream",
     "text": [
      "package 'tidyverse' successfully unpacked and MD5 sums checked\n",
      "\n",
      "The downloaded binary packages are in\n",
      "\tC:\\Users\\Christian\\AppData\\Local\\Temp\\Rtmps77jP4\\downloaded_packages\n"
     ]
    },
    {
     "name": "stderr",
     "output_type": "stream",
     "text": [
      "Installing package into 'C:/Users/Christian/AppData/Local/R/win-library/4.4'\n",
      "(as 'lib' is unspecified)\n",
      "\n"
     ]
    },
    {
     "name": "stdout",
     "output_type": "stream",
     "text": [
      "package 'ggplot2' successfully unpacked and MD5 sums checked\n",
      "\n",
      "The downloaded binary packages are in\n",
      "\tC:\\Users\\Christian\\AppData\\Local\\Temp\\Rtmps77jP4\\downloaded_packages\n"
     ]
    },
    {
     "name": "stderr",
     "output_type": "stream",
     "text": [
      "Installing package into 'C:/Users/Christian/AppData/Local/R/win-library/4.4'\n",
      "(as 'lib' is unspecified)\n",
      "\n"
     ]
    },
    {
     "name": "stdout",
     "output_type": "stream",
     "text": [
      "package 'dplyr' successfully unpacked and MD5 sums checked\n"
     ]
    },
    {
     "name": "stderr",
     "output_type": "stream",
     "text": [
      "Warning message:\n",
      "\"cannot remove prior installation of package 'dplyr'\"\n",
      "Warning message in file.copy(savedcopy, lib, recursive = TRUE):\n",
      "\"problem copying C:\\Users\\Christian\\AppData\\Local\\R\\win-library\\4.4\\00LOCK\\dplyr\\libs\\x64\\dplyr.dll to C:\\Users\\Christian\\AppData\\Local\\R\\win-library\\4.4\\dplyr\\libs\\x64\\dplyr.dll: Permission denied\"\n",
      "Warning message:\n",
      "\"restored 'dplyr'\"\n"
     ]
    },
    {
     "name": "stdout",
     "output_type": "stream",
     "text": [
      "\n",
      "The downloaded binary packages are in\n",
      "\tC:\\Users\\Christian\\AppData\\Local\\Temp\\Rtmps77jP4\\downloaded_packages\n"
     ]
    },
    {
     "name": "stderr",
     "output_type": "stream",
     "text": [
      "Installing package into 'C:/Users/Christian/AppData/Local/R/win-library/4.4'\n",
      "(as 'lib' is unspecified)\n",
      "\n"
     ]
    },
    {
     "name": "stdout",
     "output_type": "stream",
     "text": [
      "package 'magrittr' successfully unpacked and MD5 sums checked\n"
     ]
    },
    {
     "name": "stderr",
     "output_type": "stream",
     "text": [
      "Warning message:\n",
      "\"cannot remove prior installation of package 'magrittr'\"\n",
      "Warning message in file.copy(savedcopy, lib, recursive = TRUE):\n",
      "\"problem copying C:\\Users\\Christian\\AppData\\Local\\R\\win-library\\4.4\\00LOCK\\magrittr\\libs\\x64\\magrittr.dll to C:\\Users\\Christian\\AppData\\Local\\R\\win-library\\4.4\\magrittr\\libs\\x64\\magrittr.dll: Permission denied\"\n",
      "Warning message:\n",
      "\"restored 'magrittr'\"\n"
     ]
    },
    {
     "name": "stdout",
     "output_type": "stream",
     "text": [
      "\n",
      "The downloaded binary packages are in\n",
      "\tC:\\Users\\Christian\\AppData\\Local\\Temp\\Rtmps77jP4\\downloaded_packages\n"
     ]
    }
   ],
   "source": [
    "install.packages(\"tidyverse\")\n",
    "install.packages(\"ggplot2\")\n",
    "install.packages(\"dplyr\")\n",
    "install.packages(\"magrittr\")"
   ]
  },
  {
   "cell_type": "markdown",
   "id": "3771d7e0",
   "metadata": {},
   "source": [
    "After installing the packages, we should include or import them to be able to use them later. This can be done in 2 ways. **Both** options, however there is a small difference:\n",
    "\n",
    "* `require(<libname>)`: will output a warning if a package is not installed and then continue to execute the code.\n",
    "* `library(<libname>)`: will output an error and stop the execution of the code."
   ]
  },
  {
   "cell_type": "code",
   "execution_count": 39,
   "id": "4db5d87e",
   "metadata": {
    "vscode": {
     "languageId": "r"
    }
   },
   "outputs": [],
   "source": [
    "# library(tidyverse)\n",
    "library(ggplot2)\n",
    "library(dplyr)\n",
    "library(magrittr)\n",
    "library(tidyverse)"
   ]
  },
  {
   "cell_type": "markdown",
   "id": "584da987",
   "metadata": {},
   "source": [
    "# Demo 1: EDA"
   ]
  },
  {
   "cell_type": "markdown",
   "id": "64947b36",
   "metadata": {},
   "source": [
    "## Loading data and initial exploring dataset\n",
    "The packages we are utilizing contain a variety of valuable datasets that can be utilized. To access these datasets, execute the following code snippet:"
   ]
  },
  {
   "cell_type": "code",
   "execution_count": 5,
   "id": "8475d45b",
   "metadata": {
    "vscode": {
     "languageId": "r"
    }
   },
   "outputs": [
    {
     "name": "stdout",
     "output_type": "stream",
     "text": [
      "Data sets in package 'ggplot2':\n",
      "\n",
      "diamonds                Prices of over 50,000 round cut diamonds\n",
      "economics               US economic time series\n",
      "economics_long          US economic time series\n",
      "faithfuld               2d density estimate of Old Faithful data\n",
      "luv_colours             'colors()' in Luv space\n",
      "midwest                 Midwest demographics\n",
      "mpg                     Fuel economy data from 1999 to 2008 for 38\n",
      "                        popular models of cars\n",
      "msleep                  An updated and expanded version of the mammals\n",
      "                        sleep dataset\n",
      "presidential            Terms of 12 presidents from Eisenhower to Trump\n",
      "seals                   Vector field of seal movements\n",
      "txhousing               Housing sales in TX"
     ]
    }
   ],
   "source": [
    "data(package = \"ggplot2\")"
   ]
  },
  {
   "cell_type": "markdown",
   "id": "eb24afc2",
   "metadata": {},
   "source": [
    "we will be utilizing the `Bachelor_Degrees_Majors.csv` dataset, which contains information regarding the enrollment of college students in various states across the US. We can import the dataset with code:\n"
   ]
  },
  {
   "cell_type": "code",
   "execution_count": 6,
   "id": "e5f64c40",
   "metadata": {
    "vscode": {
     "languageId": "r"
    }
   },
   "outputs": [],
   "source": [
    "data <- read.csv(\"Bachelor_Degrees_Majors.csv\")"
   ]
  },
  {
   "cell_type": "markdown",
   "id": "4faf69f7",
   "metadata": {},
   "source": [
    "Let's show the first few rows using the `head()` function:"
   ]
  },
  {
   "cell_type": "code",
   "execution_count": 7,
   "id": "ff5525aa",
   "metadata": {
    "vscode": {
     "languageId": "r"
    }
   },
   "outputs": [
    {
     "data": {
      "text/html": [
       "<table class=\"dataframe\">\n",
       "<caption>A data.frame: 6 × 9</caption>\n",
       "<thead>\n",
       "\t<tr><th></th><th scope=col>State</th><th scope=col>Sex</th><th scope=col>Age.Group</th><th scope=col>Bachelor.s.Degree.Holders</th><th scope=col>Science.and.Engineering</th><th scope=col>Science.and.Engineering.Related.Fields</th><th scope=col>Business</th><th scope=col>Education</th><th scope=col>Arts..Humanities.and.Others</th></tr>\n",
       "\t<tr><th></th><th scope=col>&lt;chr&gt;</th><th scope=col>&lt;chr&gt;</th><th scope=col>&lt;chr&gt;</th><th scope=col>&lt;chr&gt;</th><th scope=col>&lt;chr&gt;</th><th scope=col>&lt;chr&gt;</th><th scope=col>&lt;chr&gt;</th><th scope=col>&lt;chr&gt;</th><th scope=col>&lt;chr&gt;</th></tr>\n",
       "</thead>\n",
       "<tbody>\n",
       "\t<tr><th scope=row>1</th><td>Alabama</td><td>Total</td><td>25 and older</td><td>885,357</td><td>263,555</td><td>98,445</td><td>210,147</td><td>141,071</td><td>172,139</td></tr>\n",
       "\t<tr><th scope=row>2</th><td>Alabama</td><td>Total</td><td>25 to 39    </td><td>268,924</td><td>90,736 </td><td>32,378</td><td>58,515 </td><td>29,342 </td><td>57,953 </td></tr>\n",
       "\t<tr><th scope=row>3</th><td>Alabama</td><td>Total</td><td>40 to 64    </td><td>418,480</td><td>115,762</td><td>46,724</td><td>112,271</td><td>63,875 </td><td>79,848 </td></tr>\n",
       "\t<tr><th scope=row>4</th><td>Alabama</td><td>Total</td><td>65 and older</td><td>197,953</td><td>57,057 </td><td>19,343</td><td>39,361 </td><td>47,854 </td><td>34,338 </td></tr>\n",
       "\t<tr><th scope=row>5</th><td>Alabama</td><td>Male </td><td>25 and older</td><td>405,618</td><td>159,366</td><td>26,004</td><td>113,909</td><td>29,490 </td><td>76,849 </td></tr>\n",
       "\t<tr><th scope=row>6</th><td>Alabama</td><td>Male </td><td>25 to 39    </td><td>117,794</td><td>50,188 </td><td>7,712 </td><td>29,859 </td><td>6,357  </td><td>23,678 </td></tr>\n",
       "</tbody>\n",
       "</table>\n"
      ],
      "text/latex": [
       "A data.frame: 6 × 9\n",
       "\\begin{tabular}{r|lllllllll}\n",
       "  & State & Sex & Age.Group & Bachelor.s.Degree.Holders & Science.and.Engineering & Science.and.Engineering.Related.Fields & Business & Education & Arts..Humanities.and.Others\\\\\n",
       "  & <chr> & <chr> & <chr> & <chr> & <chr> & <chr> & <chr> & <chr> & <chr>\\\\\n",
       "\\hline\n",
       "\t1 & Alabama & Total & 25 and older & 885,357 & 263,555 & 98,445 & 210,147 & 141,071 & 172,139\\\\\n",
       "\t2 & Alabama & Total & 25 to 39     & 268,924 & 90,736  & 32,378 & 58,515  & 29,342  & 57,953 \\\\\n",
       "\t3 & Alabama & Total & 40 to 64     & 418,480 & 115,762 & 46,724 & 112,271 & 63,875  & 79,848 \\\\\n",
       "\t4 & Alabama & Total & 65 and older & 197,953 & 57,057  & 19,343 & 39,361  & 47,854  & 34,338 \\\\\n",
       "\t5 & Alabama & Male  & 25 and older & 405,618 & 159,366 & 26,004 & 113,909 & 29,490  & 76,849 \\\\\n",
       "\t6 & Alabama & Male  & 25 to 39     & 117,794 & 50,188  & 7,712  & 29,859  & 6,357   & 23,678 \\\\\n",
       "\\end{tabular}\n"
      ],
      "text/markdown": [
       "\n",
       "A data.frame: 6 × 9\n",
       "\n",
       "| <!--/--> | State &lt;chr&gt; | Sex &lt;chr&gt; | Age.Group &lt;chr&gt; | Bachelor.s.Degree.Holders &lt;chr&gt; | Science.and.Engineering &lt;chr&gt; | Science.and.Engineering.Related.Fields &lt;chr&gt; | Business &lt;chr&gt; | Education &lt;chr&gt; | Arts..Humanities.and.Others &lt;chr&gt; |\n",
       "|---|---|---|---|---|---|---|---|---|---|\n",
       "| 1 | Alabama | Total | 25 and older | 885,357 | 263,555 | 98,445 | 210,147 | 141,071 | 172,139 |\n",
       "| 2 | Alabama | Total | 25 to 39     | 268,924 | 90,736  | 32,378 | 58,515  | 29,342  | 57,953  |\n",
       "| 3 | Alabama | Total | 40 to 64     | 418,480 | 115,762 | 46,724 | 112,271 | 63,875  | 79,848  |\n",
       "| 4 | Alabama | Total | 65 and older | 197,953 | 57,057  | 19,343 | 39,361  | 47,854  | 34,338  |\n",
       "| 5 | Alabama | Male  | 25 and older | 405,618 | 159,366 | 26,004 | 113,909 | 29,490  | 76,849  |\n",
       "| 6 | Alabama | Male  | 25 to 39     | 117,794 | 50,188  | 7,712  | 29,859  | 6,357   | 23,678  |\n",
       "\n"
      ],
      "text/plain": [
       "  State   Sex   Age.Group    Bachelor.s.Degree.Holders Science.and.Engineering\n",
       "1 Alabama Total 25 and older 885,357                   263,555                \n",
       "2 Alabama Total 25 to 39     268,924                   90,736                 \n",
       "3 Alabama Total 40 to 64     418,480                   115,762                \n",
       "4 Alabama Total 65 and older 197,953                   57,057                 \n",
       "5 Alabama Male  25 and older 405,618                   159,366                \n",
       "6 Alabama Male  25 to 39     117,794                   50,188                 \n",
       "  Science.and.Engineering.Related.Fields Business Education\n",
       "1 98,445                                 210,147  141,071  \n",
       "2 32,378                                 58,515   29,342   \n",
       "3 46,724                                 112,271  63,875   \n",
       "4 19,343                                 39,361   47,854   \n",
       "5 26,004                                 113,909  29,490   \n",
       "6 7,712                                  29,859   6,357    \n",
       "  Arts..Humanities.and.Others\n",
       "1 172,139                    \n",
       "2 57,953                     \n",
       "3 79,848                     \n",
       "4 34,338                     \n",
       "5 76,849                     \n",
       "6 23,678                     "
      ]
     },
     "metadata": {},
     "output_type": "display_data"
    }
   ],
   "source": [
    "head(data)"
   ]
  },
  {
   "cell_type": "markdown",
   "id": "43096226",
   "metadata": {},
   "source": [
    "We need to convert the character variables to factors, we also need to remove the commas by converting the columns to numeric type. We can do this with code:\n"
   ]
  },
  {
   "cell_type": "code",
   "execution_count": 8,
   "id": "048f5884",
   "metadata": {
    "vscode": {
     "languageId": "r"
    }
   },
   "outputs": [],
   "source": [
    "numeric_cols <- c(\"Bachelor.s.Degree.Holders\", \"Science.and.Engineering\", \"Science.and.Engineering.Related.Fields\", \"Business\", \"Education\", \"Arts..Humanities.and.Others\")\n",
    "data[, numeric_cols] <- lapply(data[, numeric_cols], function(x) as.numeric(gsub(\",\", \"\", x)))"
   ]
  },
  {
   "cell_type": "markdown",
   "id": "1d94d85d",
   "metadata": {},
   "source": [
    "Why not just copy/paste the columnname? This is because of naming convention used in (a)R(rr). A string may contain:\n",
    "* letters\n",
    "* numbers\n",
    "* dots\n",
    "* underscores\n",
    "* but it does **NOT** allow **spaces** and **apostrophes**, they are automagically replaced with a dot (or in older versions of R they may be replaced by an underscore)\n",
    "\n",
    "When you read a .CSV-file, R will automagically convert them to syntactically valid names!"
   ]
  },
  {
   "cell_type": "markdown",
   "id": "e04f93ee",
   "metadata": {},
   "source": [
    "Total is redundant so we should remove rows with Sex=Total. "
   ]
  },
  {
   "cell_type": "code",
   "execution_count": 9,
   "id": "02270b17",
   "metadata": {
    "vscode": {
     "languageId": "r"
    }
   },
   "outputs": [],
   "source": [
    "# in dataset, we have male, female, and total (which is sum of male and female). SO, rows with Sex == \"Total\" are redudant. Since we don't want to show them in our plots, we remove them.\n",
    "data <- data %>%\n",
    "  filter(Sex != \"Total\")"
   ]
  },
  {
   "cell_type": "code",
   "execution_count": 10,
   "id": "19ce85ee",
   "metadata": {
    "vscode": {
     "languageId": "r"
    }
   },
   "outputs": [
    {
     "data": {
      "text/html": [
       "<table class=\"dataframe\">\n",
       "<caption>A data.frame: 6 × 9</caption>\n",
       "<thead>\n",
       "\t<tr><th></th><th scope=col>State</th><th scope=col>Sex</th><th scope=col>Age.Group</th><th scope=col>Bachelor.s.Degree.Holders</th><th scope=col>Science.and.Engineering</th><th scope=col>Science.and.Engineering.Related.Fields</th><th scope=col>Business</th><th scope=col>Education</th><th scope=col>Arts..Humanities.and.Others</th></tr>\n",
       "\t<tr><th></th><th scope=col>&lt;chr&gt;</th><th scope=col>&lt;chr&gt;</th><th scope=col>&lt;chr&gt;</th><th scope=col>&lt;dbl&gt;</th><th scope=col>&lt;dbl&gt;</th><th scope=col>&lt;dbl&gt;</th><th scope=col>&lt;dbl&gt;</th><th scope=col>&lt;dbl&gt;</th><th scope=col>&lt;dbl&gt;</th></tr>\n",
       "</thead>\n",
       "<tbody>\n",
       "\t<tr><th scope=row>1</th><td>Alabama</td><td>Male  </td><td>25 and older</td><td>405618</td><td>159366</td><td>26004</td><td>113909</td><td> 29490</td><td>76849</td></tr>\n",
       "\t<tr><th scope=row>2</th><td>Alabama</td><td>Male  </td><td>25 to 39    </td><td>117794</td><td> 50188</td><td> 7712</td><td> 29859</td><td>  6357</td><td>23678</td></tr>\n",
       "\t<tr><th scope=row>3</th><td>Alabama</td><td>Male  </td><td>40 to 64    </td><td>184328</td><td> 67977</td><td>12331</td><td> 54931</td><td> 12820</td><td>36269</td></tr>\n",
       "\t<tr><th scope=row>4</th><td>Alabama</td><td>Male  </td><td>65 and older</td><td>103496</td><td> 41201</td><td> 5961</td><td> 29119</td><td> 10313</td><td>16902</td></tr>\n",
       "\t<tr><th scope=row>5</th><td>Alabama</td><td>Female</td><td>25 and older</td><td>479739</td><td>104189</td><td>72441</td><td> 96238</td><td>111581</td><td>95290</td></tr>\n",
       "\t<tr><th scope=row>6</th><td>Alabama</td><td>Female</td><td>25 to 39    </td><td>151130</td><td> 40548</td><td>24666</td><td> 28656</td><td> 22985</td><td>34275</td></tr>\n",
       "</tbody>\n",
       "</table>\n"
      ],
      "text/latex": [
       "A data.frame: 6 × 9\n",
       "\\begin{tabular}{r|lllllllll}\n",
       "  & State & Sex & Age.Group & Bachelor.s.Degree.Holders & Science.and.Engineering & Science.and.Engineering.Related.Fields & Business & Education & Arts..Humanities.and.Others\\\\\n",
       "  & <chr> & <chr> & <chr> & <dbl> & <dbl> & <dbl> & <dbl> & <dbl> & <dbl>\\\\\n",
       "\\hline\n",
       "\t1 & Alabama & Male   & 25 and older & 405618 & 159366 & 26004 & 113909 &  29490 & 76849\\\\\n",
       "\t2 & Alabama & Male   & 25 to 39     & 117794 &  50188 &  7712 &  29859 &   6357 & 23678\\\\\n",
       "\t3 & Alabama & Male   & 40 to 64     & 184328 &  67977 & 12331 &  54931 &  12820 & 36269\\\\\n",
       "\t4 & Alabama & Male   & 65 and older & 103496 &  41201 &  5961 &  29119 &  10313 & 16902\\\\\n",
       "\t5 & Alabama & Female & 25 and older & 479739 & 104189 & 72441 &  96238 & 111581 & 95290\\\\\n",
       "\t6 & Alabama & Female & 25 to 39     & 151130 &  40548 & 24666 &  28656 &  22985 & 34275\\\\\n",
       "\\end{tabular}\n"
      ],
      "text/markdown": [
       "\n",
       "A data.frame: 6 × 9\n",
       "\n",
       "| <!--/--> | State &lt;chr&gt; | Sex &lt;chr&gt; | Age.Group &lt;chr&gt; | Bachelor.s.Degree.Holders &lt;dbl&gt; | Science.and.Engineering &lt;dbl&gt; | Science.and.Engineering.Related.Fields &lt;dbl&gt; | Business &lt;dbl&gt; | Education &lt;dbl&gt; | Arts..Humanities.and.Others &lt;dbl&gt; |\n",
       "|---|---|---|---|---|---|---|---|---|---|\n",
       "| 1 | Alabama | Male   | 25 and older | 405618 | 159366 | 26004 | 113909 |  29490 | 76849 |\n",
       "| 2 | Alabama | Male   | 25 to 39     | 117794 |  50188 |  7712 |  29859 |   6357 | 23678 |\n",
       "| 3 | Alabama | Male   | 40 to 64     | 184328 |  67977 | 12331 |  54931 |  12820 | 36269 |\n",
       "| 4 | Alabama | Male   | 65 and older | 103496 |  41201 |  5961 |  29119 |  10313 | 16902 |\n",
       "| 5 | Alabama | Female | 25 and older | 479739 | 104189 | 72441 |  96238 | 111581 | 95290 |\n",
       "| 6 | Alabama | Female | 25 to 39     | 151130 |  40548 | 24666 |  28656 |  22985 | 34275 |\n",
       "\n"
      ],
      "text/plain": [
       "  State   Sex    Age.Group    Bachelor.s.Degree.Holders Science.and.Engineering\n",
       "1 Alabama Male   25 and older 405618                    159366                 \n",
       "2 Alabama Male   25 to 39     117794                     50188                 \n",
       "3 Alabama Male   40 to 64     184328                     67977                 \n",
       "4 Alabama Male   65 and older 103496                     41201                 \n",
       "5 Alabama Female 25 and older 479739                    104189                 \n",
       "6 Alabama Female 25 to 39     151130                     40548                 \n",
       "  Science.and.Engineering.Related.Fields Business Education\n",
       "1 26004                                  113909    29490   \n",
       "2  7712                                   29859     6357   \n",
       "3 12331                                   54931    12820   \n",
       "4  5961                                   29119    10313   \n",
       "5 72441                                   96238   111581   \n",
       "6 24666                                   28656    22985   \n",
       "  Arts..Humanities.and.Others\n",
       "1 76849                      \n",
       "2 23678                      \n",
       "3 36269                      \n",
       "4 16902                      \n",
       "5 95290                      \n",
       "6 34275                      "
      ]
     },
     "metadata": {},
     "output_type": "display_data"
    }
   ],
   "source": [
    "# View the first few rows of the dataset\n",
    "head(data)"
   ]
  },
  {
   "cell_type": "code",
   "execution_count": 11,
   "id": "acfcde40",
   "metadata": {
    "vscode": {
     "languageId": "r"
    }
   },
   "outputs": [
    {
     "name": "stdout",
     "output_type": "stream",
     "text": [
      "'data.frame':\t408 obs. of  9 variables:\n",
      " $ State                                 : chr  \"Alabama\" \"Alabama\" \"Alabama\" \"Alabama\" ...\n",
      " $ Sex                                   : chr  \"Male\" \"Male\" \"Male\" \"Male\" ...\n",
      " $ Age.Group                             : chr  \"25 and older\" \"25 to 39\" \"40 to 64\" \"65 and older\" ...\n",
      " $ Bachelor.s.Degree.Holders             : num  405618 117794 184328 103496 479739 ...\n",
      " $ Science.and.Engineering               : num  159366 50188 67977 41201 104189 ...\n",
      " $ Science.and.Engineering.Related.Fields: num  26004 7712 12331 5961 72441 ...\n",
      " $ Business                              : num  113909 29859 54931 29119 96238 ...\n",
      " $ Education                             : num  29490 6357 12820 10313 111581 ...\n",
      " $ Arts..Humanities.and.Others           : num  76849 23678 36269 16902 95290 ...\n"
     ]
    }
   ],
   "source": [
    "# Display the structure of the dataset\n",
    "str(data)"
   ]
  },
  {
   "cell_type": "code",
   "execution_count": 12,
   "id": "8f21d165",
   "metadata": {
    "vscode": {
     "languageId": "r"
    }
   },
   "outputs": [
    {
     "data": {
      "text/plain": [
       "    State               Sex             Age.Group        \n",
       " Length:408         Length:408         Length:408        \n",
       " Class :character   Class :character   Class :character  \n",
       " Mode  :character   Mode  :character   Mode  :character  \n",
       "                                                         \n",
       "                                                         \n",
       "                                                         \n",
       " Bachelor.s.Degree.Holders Science.and.Engineering\n",
       " Min.   :  13067           Min.   :   1629        \n",
       " 1st Qu.:  73831           1st Qu.:  22405        \n",
       " Median : 181667           Median :  55263        \n",
       " Mean   : 365204           Mean   : 129276        \n",
       " 3rd Qu.: 433020           3rd Qu.: 150703        \n",
       " Max.   :4868520           Max.   :2275829        \n",
       " Science.and.Engineering.Related.Fields    Business        Education     \n",
       " Min.   :   623                         Min.   :   959   Min.   :   461  \n",
       " 1st Qu.:  6755                         1st Qu.: 12428   1st Qu.:  7913  \n",
       " Median : 16187                         Median : 32882   Median : 20489  \n",
       " Mean   : 35842                         Mean   : 73925   Mean   : 42892  \n",
       " 3rd Qu.: 39363                         3rd Qu.: 81793   3rd Qu.: 48921  \n",
       " Max.   :538515                         Max.   :914899   Max.   :547495  \n",
       " Arts..Humanities.and.Others\n",
       " Min.   :   1573            \n",
       " 1st Qu.:  16034            \n",
       " Median :  40796            \n",
       " Mean   :  83270            \n",
       " 3rd Qu.:  95796            \n",
       " Max.   :1429168            "
      ]
     },
     "metadata": {},
     "output_type": "display_data"
    }
   ],
   "source": [
    "# Summary statistics for numerical variables\n",
    "summary(data)"
   ]
  },
  {
   "cell_type": "markdown",
   "id": "90e0f5cc",
   "metadata": {},
   "source": [
    "# Assignment 1: EDA\n",
    "\n",
    "## Group, filter, and plot data\n",
    "In R, grouping is similar to utilizing the `GROUP BY` clause in SQL, while filtering is akin to applying conditions with the `WHERE` clause in SQL. \n",
    "\n",
    "Creating plots in R is straightforward and user-friendly. \n",
    "\n",
    "For our current task, we will create a visualization comparing `Science and Engineering` with `Business` using the `ggplot` library. This library allows for the addition of multiple elements to the plot through color differentiation.\n",
    "\n",
    "Lets view the result of code below:"
   ]
  },
  {
   "cell_type": "code",
   "execution_count": 13,
   "id": "965dadd0",
   "metadata": {
    "vscode": {
     "languageId": "r"
    }
   },
   "outputs": [
    {
     "data": {
      "image/png": "[encoded data removed]",
      "text/plain": [
       "plot without title"
      ]
     },
     "metadata": {
      "image/png": {
       "height": 420,
       "width": 420
      }
     },
     "output_type": "display_data"
    }
   ],
   "source": [
    "ggplot(data, aes(x = Science.and.Engineering, y = Business, color = Age.Group)) +\n",
    "  geom_point() +  # Add points for each data point\n",
    "  scale_color_discrete(name = \"Age Group\") +  # Custom color legend title\n",
    "  labs(x = \"Science and Engineering\", y = \"Business\") +  # Labels for x and y axes\n",
    "  ggtitle(\"Scatter Plot of Science and Engineering vs. Business\")  # Title for the plot"
   ]
  },
  {
   "cell_type": "markdown",
   "id": "e935f302",
   "metadata": {},
   "source": [
    "What did the code do? \n",
    "1. `ggplot` is called, `data` passed in with on the X and Y axis the 2 columns. `Age` is used as the color differentiator.\n",
    "2. A few parameters are called in `ggplot()`:\n",
    "   * `geom_point()`: creates the scatterplot including the datapoints\n",
    "   * `scale_color_discrete()`: Within this function you can set the name of the legend\n",
    "   * `labs()`: Sets custom labels for the axes\n",
    "   * `ggtitle()`: Title of the whole graph"
   ]
  },
  {
   "cell_type": "markdown",
   "id": "4a8757bc",
   "metadata": {},
   "source": [
    "# Extra Assignment: EDA\n",
    "Using above code as example, create a plot for a diamond carot vs its price and show its cut as color (or any other plot of your choice).\n",
    "\n",
    "We are going to learn how to do these by doing some example tasks.\n",
    "\n",
    "## Task 1\n",
    "Compare the average Sicence and Engineering for different age groups.\n",
    "Only consider Female students.\n",
    "Plot bar chart to show the results. \n",
    "\n",
    "Let's do this with pipe %>% operator:"
   ]
  },
  {
   "cell_type": "code",
   "execution_count": 14,
   "id": "58ad950b",
   "metadata": {
    "vscode": {
     "languageId": "r"
    }
   },
   "outputs": [
    {
     "data": {
      "image/png": "[encoded data removed]",
      "text/plain": [
       "plot without title"
      ]
     },
     "metadata": {
      "image/png": {
       "height": 420,
       "width": 420
      }
     },
     "output_type": "display_data"
    }
   ],
   "source": [
    "task1 <- data %>% \n",
    "  filter(Sex == \"Female\") %>%\n",
    "  group_by(Age.Group) %>%\n",
    "  summarise(mean_sci = mean(Science.and.Engineering))\n",
    "\n",
    "ggplot(task1, aes(x = Age.Group, y = mean_sci)) +\n",
    "  geom_bar(stat = \"identity\", fill = \"skyblue\") +\n",
    "  labs(x = \"Age Group\", y = \"Mean Science and Engineering\") +\n",
    "  ggtitle(\"Mean Science and Engineering by Age Group\")"
   ]
  },
  {
   "cell_type": "markdown",
   "id": "a729efe8",
   "metadata": {},
   "source": [
    "## Task 2:\n",
    "Plot Business and Education in a scatter plot for age group 25 to 39 and Sex of Male.\n"
   ]
  },
  {
   "cell_type": "code",
   "execution_count": 15,
   "id": "7f286836",
   "metadata": {
    "vscode": {
     "languageId": "r"
    }
   },
   "outputs": [
    {
     "data": {
      "image/png": "[encoded data removed]",
      "text/plain": [
       "plot without title"
      ]
     },
     "metadata": {
      "image/png": {
       "height": 420,
       "width": 420
      }
     },
     "output_type": "display_data"
    }
   ],
   "source": [
    "task2 = data %>% filter(Age.Group == \"25 to 39\" & Sex == \"Male\")\n",
    "ggplot(task2, aes(x = Business, y = Education)) +\n",
    "  geom_point() +  # Add points\n",
    "  labs(x = \"Business\", y = \"Education\") +\n",
    "  ggtitle(\"Business vs Education\")"
   ]
  },
  {
   "cell_type": "markdown",
   "id": "0e52108b",
   "metadata": {},
   "source": [
    "# Demo 2: Regression"
   ]
  },
  {
   "cell_type": "markdown",
   "id": "75636df6",
   "metadata": {},
   "source": [
    "We are going to analyse the relationship between the number of `Bachelors's degree holders` and the number of `Science and Engineering` using a linear regression model. "
   ]
  },
  {
   "cell_type": "markdown",
   "id": "7eed3ee3",
   "metadata": {},
   "source": [
    "First select the columns to be used in the model:"
   ]
  },
  {
   "cell_type": "code",
   "execution_count": 16,
   "id": "68f547b7",
   "metadata": {
    "vscode": {
     "languageId": "r"
    }
   },
   "outputs": [],
   "source": [
    "# Select relevant columns\n",
    "selected_data <- data[, c(\"Bachelor.s.Degree.Holders\", \"Science.and.Engineering\")]"
   ]
  },
  {
   "cell_type": "markdown",
   "id": "5a65fb91",
   "metadata": {},
   "source": [
    "Convert the data to a dataframe using `as.data.frame()`:"
   ]
  },
  {
   "cell_type": "code",
   "execution_count": 17,
   "id": "dc150ca9",
   "metadata": {
    "vscode": {
     "languageId": "r"
    }
   },
   "outputs": [],
   "source": [
    "selected_data <- as.data.frame(selected_data)"
   ]
  },
  {
   "cell_type": "markdown",
   "id": "6b7ee079",
   "metadata": {},
   "source": [
    "Split the data into training, testing and validation:"
   ]
  },
  {
   "cell_type": "code",
   "execution_count": 18,
   "id": "081e3373",
   "metadata": {
    "vscode": {
     "languageId": "r"
    }
   },
   "outputs": [],
   "source": [
    "set.seed(123)  # For reproducibility\n",
    "sample_index <- sample(seq_len(nrow(data)), 0.7 * nrow(data))\n",
    "train_data <- data[sample_index, ]\n",
    "test_data <- data[-sample_index, ]"
   ]
  },
  {
   "cell_type": "markdown",
   "id": "795e6e44",
   "metadata": {},
   "source": [
    "Now learn the actual model:"
   ]
  },
  {
   "cell_type": "code",
   "execution_count": 19,
   "id": "1ec1ed48",
   "metadata": {
    "vscode": {
     "languageId": "r"
    }
   },
   "outputs": [],
   "source": [
    "model <- lm(Bachelor.s.Degree.Holders ~ Science.and.Engineering, data = train_data)"
   ]
  },
  {
   "cell_type": "markdown",
   "id": "c77d5be6",
   "metadata": {},
   "source": [
    "Just like that? Yep, just like that. the `lm` part determines what model-algorithm is used. `lm` stands for \"linear model\"."
   ]
  },
  {
   "cell_type": "markdown",
   "id": "1cfa254b",
   "metadata": {},
   "source": [
    "We can show the performance of the model:"
   ]
  },
  {
   "cell_type": "code",
   "execution_count": 20,
   "id": "6398638e",
   "metadata": {
    "vscode": {
     "languageId": "r"
    }
   },
   "outputs": [
    {
     "data": {
      "text/plain": [
       "\n",
       "Call:\n",
       "lm(formula = Bachelor.s.Degree.Holders ~ Science.and.Engineering, \n",
       "    data = train_data)\n",
       "\n",
       "Residuals:\n",
       "    Min      1Q  Median      3Q     Max \n",
       "-870646  -62434  -43635   15500 1029806 \n",
       "\n",
       "Coefficients:\n",
       "                         Estimate Std. Error t value Pr(>|t|)    \n",
       "(Intercept)             6.262e+04  1.082e+04   5.787  1.9e-08 ***\n",
       "Science.and.Engineering 2.359e+00  4.282e-02  55.078  < 2e-16 ***\n",
       "---\n",
       "Signif. codes:  0 '***' 0.001 '**' 0.01 '*' 0.05 '.' 0.1 ' ' 1\n",
       "\n",
       "Residual standard error: 156800 on 283 degrees of freedom\n",
       "Multiple R-squared:  0.9147,\tAdjusted R-squared:  0.9144 \n",
       "F-statistic:  3034 on 1 and 283 DF,  p-value: < 2.2e-16\n"
      ]
     },
     "metadata": {},
     "output_type": "display_data"
    }
   ],
   "source": [
    "summary(model)"
   ]
  },
  {
   "cell_type": "markdown",
   "id": "cb9422d3",
   "metadata": {},
   "source": [
    "The `summary()` shows that the model has scored an adjusted $R^2$ of 0.9209"
   ]
  },
  {
   "cell_type": "markdown",
   "id": "b45d9f04",
   "metadata": {},
   "source": [
    "We can optionally calculate the MSE:"
   ]
  },
  {
   "cell_type": "code",
   "execution_count": 21,
   "id": "286b0fad",
   "metadata": {
    "vscode": {
     "languageId": "r"
    }
   },
   "outputs": [
    {
     "name": "stdout",
     "output_type": "stream",
     "text": [
      "[1] \"Mean Squared Error: 22991055746.6111\"\n"
     ]
    }
   ],
   "source": [
    "predictions <- predict(model, test_data)\n",
    "mse <- mean((predictions - test_data$Bachelor.s.Degree.Holders)^2)\n",
    "print(paste(\"Mean Squared Error:\", mse))"
   ]
  },
  {
   "cell_type": "markdown",
   "id": "35f1d110",
   "metadata": {},
   "source": [
    "Using `ggplot`, we can also scatterplot the columns and include the regression line in 1 go:"
   ]
  },
  {
   "cell_type": "code",
   "execution_count": 22,
   "id": "14278068",
   "metadata": {
    "vscode": {
     "languageId": "r"
    }
   },
   "outputs": [
    {
     "name": "stderr",
     "output_type": "stream",
     "text": [
      "\u001b[1m\u001b[22m`geom_smooth()` using formula = 'y ~ x'\n"
     ]
    },
    {
     "data": {
      "image/png": "[encoded data removed]",
      "text/plain": [
       "plot without title"
      ]
     },
     "metadata": {
      "image/png": {
       "height": 420,
       "width": 420
      }
     },
     "output_type": "display_data"
    }
   ],
   "source": [
    "# Scatter plot with regression line\n",
    "ggplot(selected_data, aes(x = Science.and.Engineering, y = Bachelor.s.Degree.Holders)) +\n",
    "  geom_point() +\n",
    "  geom_smooth(method = \"lm\", se = FALSE) +\n",
    "  labs(title = \"Simple Linear Regression Analysis\",\n",
    "       x = \"Science and Engineering Degree Holders\",\n",
    "       y = \"Bachelor's Degree Holders\")"
   ]
  },
  {
   "cell_type": "markdown",
   "id": "75bc26cb",
   "metadata": {},
   "source": [
    "# Assignment 2: Regression"
   ]
  },
  {
   "cell_type": "markdown",
   "id": "93e69519",
   "metadata": {},
   "source": [
    "Instead of using a linear regression model, now it's up to you to make use of another regression model. Lets try Random Forest Regression this time. Feel free to add more blocks as required."
   ]
  },
  {
   "cell_type": "code",
   "execution_count": 23,
   "id": "2d9bc8e4",
   "metadata": {
    "vscode": {
     "languageId": "r"
    }
   },
   "outputs": [
    {
     "name": "stderr",
     "output_type": "stream",
     "text": [
      "Installing package into 'C:/Users/Christian/AppData/Local/R/win-library/4.4'\n",
      "(as 'lib' is unspecified)\n",
      "\n"
     ]
    },
    {
     "name": "stdout",
     "output_type": "stream",
     "text": [
      "package 'randomForest' successfully unpacked and MD5 sums checked\n",
      "\n",
      "The downloaded binary packages are in\n",
      "\tC:\\Users\\Christian\\AppData\\Local\\Temp\\Rtmps77jP4\\downloaded_packages\n"
     ]
    }
   ],
   "source": [
    "# Install the required package\n",
    "install.packages(\"randomForest\")"
   ]
  },
  {
   "cell_type": "code",
   "execution_count": null,
   "id": "945a867e",
   "metadata": {
    "vscode": {
     "languageId": "r"
    }
   },
   "outputs": [
    {
     "ename": "",
     "evalue": "",
     "output_type": "error",
     "traceback": [
      "\u001b[1;31mFailed to start the Kernel. \n",
      "\u001b[1;31mThe kernel 'R' was not started as it is located in an insecure location 'c:\\ProgramData\\jupyter\\kernels\\ir\\kernel.json'.  \n",
      "\u001b[1;31mClick <a href='https://aka.ms/JupyterTrustedKernelPaths'>here</a> for further details, optionally update the setting <a href='command:workbench.action.openSettings?[\"jupyter.kernels.trusted\"]'>jupyter.kernels.trusted</a> to trust the kernel."
     ]
    }
   ],
   "source": [
    "# Import the randomForest library"
   ]
  },
  {
   "cell_type": "code",
   "execution_count": null,
   "id": "01b3de9d",
   "metadata": {
    "vscode": {
     "languageId": "r"
    }
   },
   "outputs": [
    {
     "ename": "",
     "evalue": "",
     "output_type": "error",
     "traceback": [
      "\u001b[1;31mFailed to start the Kernel. \n",
      "\u001b[1;31mThe kernel 'R' was not started as it is located in an insecure location 'c:\\ProgramData\\jupyter\\kernels\\ir\\kernel.json'.  \n",
      "\u001b[1;31mClick <a href='https://aka.ms/JupyterTrustedKernelPaths'>here</a> for further details, optionally update the setting <a href='command:workbench.action.openSettings?[\"jupyter.kernels.trusted\"]'>jupyter.kernels.trusted</a> to trust the kernel."
     ]
    }
   ],
   "source": [
    "# Pick 2 different columns from the dataset and convert them to numeric value"
   ]
  },
  {
   "cell_type": "code",
   "execution_count": null,
   "id": "750e1955",
   "metadata": {
    "vscode": {
     "languageId": "r"
    }
   },
   "outputs": [
    {
     "ename": "",
     "evalue": "",
     "output_type": "error",
     "traceback": [
      "\u001b[1;31mFailed to start the Kernel. \n",
      "\u001b[1;31mThe kernel 'R' was not started as it is located in an insecure location 'c:\\ProgramData\\jupyter\\kernels\\ir\\kernel.json'.  \n",
      "\u001b[1;31mClick <a href='https://aka.ms/JupyterTrustedKernelPaths'>here</a> for further details, optionally update the setting <a href='command:workbench.action.openSettings?[\"jupyter.kernels.trusted\"]'>jupyter.kernels.trusted</a> to trust the kernel."
     ]
    }
   ],
   "source": [
    "# Select the columns for regression and store in a variable"
   ]
  },
  {
   "cell_type": "code",
   "execution_count": null,
   "id": "fa3cc26f",
   "metadata": {
    "vscode": {
     "languageId": "r"
    }
   },
   "outputs": [
    {
     "ename": "",
     "evalue": "",
     "output_type": "error",
     "traceback": [
      "\u001b[1;31mFailed to start the Kernel. \n",
      "\u001b[1;31mThe kernel 'R' was not started as it is located in an insecure location 'c:\\ProgramData\\jupyter\\kernels\\ir\\kernel.json'.  \n",
      "\u001b[1;31mClick <a href='https://aka.ms/JupyterTrustedKernelPaths'>here</a> for further details, optionally update the setting <a href='command:workbench.action.openSettings?[\"jupyter.kernels.trusted\"]'>jupyter.kernels.trusted</a> to trust the kernel."
     ]
    }
   ],
   "source": [
    "# Train the RandomForest model"
   ]
  },
  {
   "cell_type": "markdown",
   "id": "f5839863",
   "metadata": {},
   "source": [
    "# Demo 3: Classification"
   ]
  },
  {
   "cell_type": "markdown",
   "id": "09a5bf0d",
   "metadata": {},
   "source": [
    "In this section, we will demonstrate how to perform classification using a simple decision tree classifier. We will predict the field of study (e.g., 'Science and Engineering', 'Business', etc.) based on the number of bachelor's degree holders. "
   ]
  },
  {
   "cell_type": "markdown",
   "id": "0d76bc01",
   "metadata": {},
   "source": [
    "First, we need to install and load the required package `rpart` for creating decision trees."
   ]
  },
  {
   "cell_type": "code",
   "execution_count": 24,
   "id": "09db3568",
   "metadata": {
    "vscode": {
     "languageId": "r"
    }
   },
   "outputs": [
    {
     "name": "stderr",
     "output_type": "stream",
     "text": [
      "Installing package into 'C:/Users/Christian/AppData/Local/R/win-library/4.4'\n",
      "(as 'lib' is unspecified)\n",
      "\n"
     ]
    },
    {
     "name": "stdout",
     "output_type": "stream",
     "text": [
      "package 'rpart' successfully unpacked and MD5 sums checked\n"
     ]
    },
    {
     "name": "stderr",
     "output_type": "stream",
     "text": [
      "Warning message:\n",
      "\"cannot remove prior installation of package 'rpart'\"\n",
      "Warning message in file.copy(savedcopy, lib, recursive = TRUE):\n",
      "\"problem copying C:\\Users\\Christian\\AppData\\Local\\R\\win-library\\4.4\\00LOCK\\rpart\\libs\\x64\\rpart.dll to C:\\Users\\Christian\\AppData\\Local\\R\\win-library\\4.4\\rpart\\libs\\x64\\rpart.dll: Permission denied\"\n",
      "Warning message:\n",
      "\"restored 'rpart'\"\n"
     ]
    },
    {
     "name": "stdout",
     "output_type": "stream",
     "text": [
      "\n",
      "The downloaded binary packages are in\n",
      "\tC:\\Users\\Christian\\AppData\\Local\\Temp\\Rtmps77jP4\\downloaded_packages\n"
     ]
    }
   ],
   "source": [
    "install.packages(\"rpart\")\n",
    "library(rpart)"
   ]
  },
  {
   "cell_type": "markdown",
   "id": "14e95a42",
   "metadata": {},
   "source": [
    "Next, let's prepare our dataset. We will use the `data` object that was created earlier. We will select relevant columns and create a new categorical column for classification. For simplicity, we will create a binary classification problem by categorizing the `Science and Engineering` field into 'High' and 'Low' based on the median value."
   ]
  },
  {
   "cell_type": "code",
   "execution_count": 25,
   "id": "45b2b53a",
   "metadata": {
    "vscode": {
     "languageId": "r"
    }
   },
   "outputs": [],
   "source": [
    "# Create a binary classification target variable\n",
    "median_sci_eng <- median(data$Science.and.Engineering, na.rm = TRUE)\n",
    "data$SciEng_Category <- ifelse(data$Science.and.Engineering >= median_sci_eng, \"High\", \"Low\")\n",
    "\n",
    "# Convert the new column to a factor\n",
    "data$SciEng_Category <- as.factor(data$SciEng_Category)"
   ]
  },
  {
   "cell_type": "markdown",
   "id": "68490a2b",
   "metadata": {},
   "source": [
    "Let's display the first few rows of the modified dataset to ensure our new column has been added correctly."
   ]
  },
  {
   "cell_type": "code",
   "execution_count": 26,
   "id": "1a7a4c9b",
   "metadata": {
    "vscode": {
     "languageId": "r"
    }
   },
   "outputs": [
    {
     "data": {
      "text/html": [
       "<table class=\"dataframe\">\n",
       "<caption>A data.frame: 6 × 10</caption>\n",
       "<thead>\n",
       "\t<tr><th></th><th scope=col>State</th><th scope=col>Sex</th><th scope=col>Age.Group</th><th scope=col>Bachelor.s.Degree.Holders</th><th scope=col>Science.and.Engineering</th><th scope=col>Science.and.Engineering.Related.Fields</th><th scope=col>Business</th><th scope=col>Education</th><th scope=col>Arts..Humanities.and.Others</th><th scope=col>SciEng_Category</th></tr>\n",
       "\t<tr><th></th><th scope=col>&lt;chr&gt;</th><th scope=col>&lt;chr&gt;</th><th scope=col>&lt;chr&gt;</th><th scope=col>&lt;dbl&gt;</th><th scope=col>&lt;dbl&gt;</th><th scope=col>&lt;dbl&gt;</th><th scope=col>&lt;dbl&gt;</th><th scope=col>&lt;dbl&gt;</th><th scope=col>&lt;dbl&gt;</th><th scope=col>&lt;fct&gt;</th></tr>\n",
       "</thead>\n",
       "<tbody>\n",
       "\t<tr><th scope=row>1</th><td>Alabama</td><td>Male  </td><td>25 and older</td><td>405618</td><td>159366</td><td>26004</td><td>113909</td><td> 29490</td><td>76849</td><td>High</td></tr>\n",
       "\t<tr><th scope=row>2</th><td>Alabama</td><td>Male  </td><td>25 to 39    </td><td>117794</td><td> 50188</td><td> 7712</td><td> 29859</td><td>  6357</td><td>23678</td><td>Low </td></tr>\n",
       "\t<tr><th scope=row>3</th><td>Alabama</td><td>Male  </td><td>40 to 64    </td><td>184328</td><td> 67977</td><td>12331</td><td> 54931</td><td> 12820</td><td>36269</td><td>High</td></tr>\n",
       "\t<tr><th scope=row>4</th><td>Alabama</td><td>Male  </td><td>65 and older</td><td>103496</td><td> 41201</td><td> 5961</td><td> 29119</td><td> 10313</td><td>16902</td><td>Low </td></tr>\n",
       "\t<tr><th scope=row>5</th><td>Alabama</td><td>Female</td><td>25 and older</td><td>479739</td><td>104189</td><td>72441</td><td> 96238</td><td>111581</td><td>95290</td><td>High</td></tr>\n",
       "\t<tr><th scope=row>6</th><td>Alabama</td><td>Female</td><td>25 to 39    </td><td>151130</td><td> 40548</td><td>24666</td><td> 28656</td><td> 22985</td><td>34275</td><td>Low </td></tr>\n",
       "</tbody>\n",
       "</table>\n"
      ],
      "text/latex": [
       "A data.frame: 6 × 10\n",
       "\\begin{tabular}{r|llllllllll}\n",
       "  & State & Sex & Age.Group & Bachelor.s.Degree.Holders & Science.and.Engineering & Science.and.Engineering.Related.Fields & Business & Education & Arts..Humanities.and.Others & SciEng\\_Category\\\\\n",
       "  & <chr> & <chr> & <chr> & <dbl> & <dbl> & <dbl> & <dbl> & <dbl> & <dbl> & <fct>\\\\\n",
       "\\hline\n",
       "\t1 & Alabama & Male   & 25 and older & 405618 & 159366 & 26004 & 113909 &  29490 & 76849 & High\\\\\n",
       "\t2 & Alabama & Male   & 25 to 39     & 117794 &  50188 &  7712 &  29859 &   6357 & 23678 & Low \\\\\n",
       "\t3 & Alabama & Male   & 40 to 64     & 184328 &  67977 & 12331 &  54931 &  12820 & 36269 & High\\\\\n",
       "\t4 & Alabama & Male   & 65 and older & 103496 &  41201 &  5961 &  29119 &  10313 & 16902 & Low \\\\\n",
       "\t5 & Alabama & Female & 25 and older & 479739 & 104189 & 72441 &  96238 & 111581 & 95290 & High\\\\\n",
       "\t6 & Alabama & Female & 25 to 39     & 151130 &  40548 & 24666 &  28656 &  22985 & 34275 & Low \\\\\n",
       "\\end{tabular}\n"
      ],
      "text/markdown": [
       "\n",
       "A data.frame: 6 × 10\n",
       "\n",
       "| <!--/--> | State &lt;chr&gt; | Sex &lt;chr&gt; | Age.Group &lt;chr&gt; | Bachelor.s.Degree.Holders &lt;dbl&gt; | Science.and.Engineering &lt;dbl&gt; | Science.and.Engineering.Related.Fields &lt;dbl&gt; | Business &lt;dbl&gt; | Education &lt;dbl&gt; | Arts..Humanities.and.Others &lt;dbl&gt; | SciEng_Category &lt;fct&gt; |\n",
       "|---|---|---|---|---|---|---|---|---|---|---|\n",
       "| 1 | Alabama | Male   | 25 and older | 405618 | 159366 | 26004 | 113909 |  29490 | 76849 | High |\n",
       "| 2 | Alabama | Male   | 25 to 39     | 117794 |  50188 |  7712 |  29859 |   6357 | 23678 | Low  |\n",
       "| 3 | Alabama | Male   | 40 to 64     | 184328 |  67977 | 12331 |  54931 |  12820 | 36269 | High |\n",
       "| 4 | Alabama | Male   | 65 and older | 103496 |  41201 |  5961 |  29119 |  10313 | 16902 | Low  |\n",
       "| 5 | Alabama | Female | 25 and older | 479739 | 104189 | 72441 |  96238 | 111581 | 95290 | High |\n",
       "| 6 | Alabama | Female | 25 to 39     | 151130 |  40548 | 24666 |  28656 |  22985 | 34275 | Low  |\n",
       "\n"
      ],
      "text/plain": [
       "  State   Sex    Age.Group    Bachelor.s.Degree.Holders Science.and.Engineering\n",
       "1 Alabama Male   25 and older 405618                    159366                 \n",
       "2 Alabama Male   25 to 39     117794                     50188                 \n",
       "3 Alabama Male   40 to 64     184328                     67977                 \n",
       "4 Alabama Male   65 and older 103496                     41201                 \n",
       "5 Alabama Female 25 and older 479739                    104189                 \n",
       "6 Alabama Female 25 to 39     151130                     40548                 \n",
       "  Science.and.Engineering.Related.Fields Business Education\n",
       "1 26004                                  113909    29490   \n",
       "2  7712                                   29859     6357   \n",
       "3 12331                                   54931    12820   \n",
       "4  5961                                   29119    10313   \n",
       "5 72441                                   96238   111581   \n",
       "6 24666                                   28656    22985   \n",
       "  Arts..Humanities.and.Others SciEng_Category\n",
       "1 76849                       High           \n",
       "2 23678                       Low            \n",
       "3 36269                       High           \n",
       "4 16902                       Low            \n",
       "5 95290                       High           \n",
       "6 34275                       Low            "
      ]
     },
     "metadata": {},
     "output_type": "display_data"
    }
   ],
   "source": [
    "head(data)"
   ]
  },
  {
   "cell_type": "markdown",
   "id": "92cfb6f7",
   "metadata": {},
   "source": [
    "Next, let's split the dataset into training and testing sets. 70% of the data will be used for training and the remaining 30% for testing."
   ]
  },
  {
   "cell_type": "code",
   "execution_count": 27,
   "id": "efb4a3a8",
   "metadata": {
    "vscode": {
     "languageId": "r"
    }
   },
   "outputs": [],
   "source": [
    "set.seed(123)  # For reproducibility\n",
    "sample_index <- sample(seq_len(nrow(data)), size = 0.7 * nrow(data))\n",
    "train_data <- data[sample_index, ]\n",
    "test_data <- data[-sample_index, ]"
   ]
  },
  {
   "cell_type": "markdown",
   "id": "fe2bfbc6",
   "metadata": {},
   "source": [
    "We can now train the decision tree classifier using the `rpart` function, with `SciEng_Category` as the target variable and `Bachelor's Degree Holders` as the predictor."
   ]
  },
  {
   "cell_type": "code",
   "execution_count": 28,
   "id": "9d5e0d34",
   "metadata": {
    "vscode": {
     "languageId": "r"
    }
   },
   "outputs": [],
   "source": [
    "# Train the decision tree classifier\n",
    "model <- rpart(SciEng_Category ~ Bachelor.s.Degree.Holders, data = train_data, method = \"class\")"
   ]
  },
  {
   "cell_type": "markdown",
   "id": "792b8a64",
   "metadata": {},
   "source": [
    "Let's visualize the decision tree."
   ]
  },
  {
   "cell_type": "code",
   "execution_count": 29,
   "id": "99d7155f",
   "metadata": {
    "vscode": {
     "languageId": "r"
    }
   },
   "outputs": [
    {
     "data": {
      "image/png": "[encoded data removed]",
      "text/plain": [
       "plot without title"
      ]
     },
     "metadata": {
      "image/png": {
       "height": 420,
       "width": 420
      }
     },
     "output_type": "display_data"
    }
   ],
   "source": [
    "library(rpart.plot)\n",
    "rpart.plot(model)"
   ]
  },
  {
   "cell_type": "markdown",
   "id": "091b5483",
   "metadata": {},
   "source": [
    "Now, let's make predictions on the test set and evaluate the model's performance."
   ]
  },
  {
   "cell_type": "code",
   "execution_count": 30,
   "id": "682c1448",
   "metadata": {
    "vscode": {
     "languageId": "r"
    }
   },
   "outputs": [
    {
     "name": "stdout",
     "output_type": "stream",
     "text": [
      "         Actual\n",
      "Predicted High Low\n",
      "     High   51   3\n",
      "     Low    11  58\n"
     ]
    }
   ],
   "source": [
    "# Make predictions on the test set\n",
    "predictions <- predict(model, test_data, type = \"class\")\n",
    "\n",
    "# Evaluate the model's performance\n",
    "confusion_matrix <- table(Predicted = predictions, Actual = test_data$SciEng_Category)\n",
    "print(confusion_matrix)"
   ]
  },
  {
   "cell_type": "markdown",
   "id": "d2821cb7",
   "metadata": {},
   "source": [
    "The confusion matrix shows how well the model performs.\n",
    "\n",
    "To calculate the accuracy of the model, we can use the following code:"
   ]
  },
  {
   "cell_type": "code",
   "execution_count": 31,
   "id": "52b95be2",
   "metadata": {
    "vscode": {
     "languageId": "r"
    }
   },
   "outputs": [
    {
     "name": "stdout",
     "output_type": "stream",
     "text": [
      "[1] \"Accuracy: 88.62 %\"\n"
     ]
    }
   ],
   "source": [
    "# Calculate accuracy\n",
    "accuracy <- sum(diag(confusion_matrix)) / sum(confusion_matrix)\n",
    "print(paste(\"Accuracy:\", round(accuracy * 100, 2), \"%\"))"
   ]
  },
  {
   "cell_type": "markdown",
   "id": "b9156e7d",
   "metadata": {},
   "source": [
    "We have successfully built and evaluated a decision tree classifier."
   ]
  },
  {
   "cell_type": "markdown",
   "id": "09a5bf0d",
   "metadata": {},
   "source": [
    "# Assignment 3: Classification"
   ]
  },
  {
   "cell_type": "markdown",
   "id": "0c16d410",
   "metadata": {},
   "source": [
    "Using the code from the demo as an example, create a classification model using a different algorithm, such as k-Nearest Neighbors (k-NN) or Random Forest. Choose another categorical target variable and appropriate predictor variables from the dataset. Feel free to add more code blocks."
   ]
  },
  {
   "cell_type": "code",
   "execution_count": 32,
   "id": "d5c8f9d8",
   "metadata": {
    "vscode": {
     "languageId": "r"
    }
   },
   "outputs": [
    {
     "name": "stderr",
     "output_type": "stream",
     "text": [
      "Installing package into 'C:/Users/Christian/AppData/Local/R/win-library/4.4'\n",
      "(as 'lib' is unspecified)\n",
      "\n"
     ]
    },
    {
     "name": "stdout",
     "output_type": "stream",
     "text": [
      "package 'class' successfully unpacked and MD5 sums checked\n",
      "\n",
      "The downloaded binary packages are in\n",
      "\tC:\\Users\\Christian\\AppData\\Local\\Temp\\Rtmps77jP4\\downloaded_packages\n"
     ]
    }
   ],
   "source": [
    "# Install the required package for k-NN\n",
    "install.packages(\"class\")"
   ]
  },
  {
   "cell_type": "code",
   "execution_count": null,
   "id": "324b3f0e",
   "metadata": {
    "vscode": {
     "languageId": "r"
    }
   },
   "outputs": [
    {
     "ename": "",
     "evalue": "",
     "output_type": "error",
     "traceback": [
      "\u001b[1;31mFailed to start the Kernel. \n",
      "\u001b[1;31mThe kernel 'R' was not started as it is located in an insecure location 'c:\\ProgramData\\jupyter\\kernels\\ir\\kernel.json'.  \n",
      "\u001b[1;31mClick <a href='https://aka.ms/JupyterTrustedKernelPaths'>here</a> for further details, optionally update the setting <a href='command:workbench.action.openSettings?[\"jupyter.kernels.trusted\"]'>jupyter.kernels.trusted</a> to trust the kernel."
     ]
    }
   ],
   "source": [
    "# Import the class library for k-NN"
   ]
  },
  {
   "cell_type": "code",
   "execution_count": null,
   "id": "c71655e0",
   "metadata": {
    "vscode": {
     "languageId": "r"
    }
   },
   "outputs": [
    {
     "ename": "",
     "evalue": "",
     "output_type": "error",
     "traceback": [
      "\u001b[1;31mFailed to start the Kernel. \n",
      "\u001b[1;31mThe kernel 'R' was not started as it is located in an insecure location 'c:\\ProgramData\\jupyter\\kernels\\ir\\kernel.json'.  \n",
      "\u001b[1;31mClick <a href='https://aka.ms/JupyterTrustedKernelPaths'>here</a> for further details, optionally update the setting <a href='command:workbench.action.openSettings?[\"jupyter.kernels.trusted\"]'>jupyter.kernels.trusted</a> to trust the kernel."
     ]
    }
   ],
   "source": [
    "# Prepare the dataset for k-NN classification"
   ]
  },
  {
   "cell_type": "markdown",
   "id": "c014bf81",
   "metadata": {},
   "source": [
    "# Demo 4: Clustering"
   ]
  },
  {
   "cell_type": "markdown",
   "id": "7a0fa4ac",
   "metadata": {},
   "source": [
    "R even has the ability to do clustering, we are going to show you how to do `HDBSCAN`!"
   ]
  },
  {
   "cell_type": "markdown",
   "id": "ff0c2fe2",
   "metadata": {},
   "source": [
    "It requires just 1 extra package. code below installs and imports the required `dbscan` package:"
   ]
  },
  {
   "cell_type": "code",
   "execution_count": 33,
   "id": "b6324288",
   "metadata": {
    "vscode": {
     "languageId": "r"
    }
   },
   "outputs": [
    {
     "name": "stderr",
     "output_type": "stream",
     "text": [
      "Installing package into 'C:/Users/Christian/AppData/Local/R/win-library/4.4'\n",
      "(as 'lib' is unspecified)\n",
      "\n"
     ]
    },
    {
     "name": "stdout",
     "output_type": "stream",
     "text": [
      "package 'dbscan' successfully unpacked and MD5 sums checked\n"
     ]
    },
    {
     "name": "stderr",
     "output_type": "stream",
     "text": [
      "Warning message:\n",
      "\"cannot remove prior installation of package 'dbscan'\"\n",
      "Warning message in file.copy(savedcopy, lib, recursive = TRUE):\n",
      "\"problem copying C:\\Users\\Christian\\AppData\\Local\\R\\win-library\\4.4\\00LOCK\\dbscan\\libs\\x64\\dbscan.dll to C:\\Users\\Christian\\AppData\\Local\\R\\win-library\\4.4\\dbscan\\libs\\x64\\dbscan.dll: Permission denied\"\n",
      "Warning message:\n",
      "\"restored 'dbscan'\"\n"
     ]
    },
    {
     "name": "stdout",
     "output_type": "stream",
     "text": [
      "\n",
      "The downloaded binary packages are in\n",
      "\tC:\\Users\\Christian\\AppData\\Local\\Temp\\Rtmps77jP4\\downloaded_packages\n"
     ]
    },
    {
     "name": "stderr",
     "output_type": "stream",
     "text": [
      "\n",
      "Attaching package: 'dbscan'\n",
      "\n",
      "\n",
      "The following object is masked from 'package:stats':\n",
      "\n",
      "    as.dendrogram\n",
      "\n",
      "\n"
     ]
    }
   ],
   "source": [
    "install.packages(\"dbscan\")\n",
    "library(dbscan)"
   ]
  },
  {
   "cell_type": "markdown",
   "id": "ef3fe66f",
   "metadata": {},
   "source": [
    "Since we already prepared the dataset we can skip the preprocessing, selecting the correct columns and storing as a dataframe but just to be sure here is the complete code to do all that in 1 block:"
   ]
  },
  {
   "cell_type": "code",
   "execution_count": 34,
   "id": "a68ab91d",
   "metadata": {
    "vscode": {
     "languageId": "r"
    }
   },
   "outputs": [],
   "source": [
    "# Convert necessary columns to numeric\n",
    "data$Science.and.Engineering <- as.numeric(gsub(\",\", \"\", data$Science.and.Engineering))\n",
    "data$Business <- as.numeric(gsub(\",\", \"\", data$Business))\n",
    "data <- na.omit(data)  # Remove any rows with NA values\n",
    "\n",
    "# Select columns for clustering\n",
    "selected_data <- data[, c(\"Science.and.Engineering\", \"Business\")]"
   ]
  },
  {
   "cell_type": "markdown",
   "id": "9f867db8",
   "metadata": {},
   "source": [
    "Run the actual `HDBSCAN`:"
   ]
  },
  {
   "cell_type": "code",
   "execution_count": 35,
   "id": "4d9355b0",
   "metadata": {
    "vscode": {
     "languageId": "r"
    }
   },
   "outputs": [],
   "source": [
    "hdbscan_result <- hdbscan(selected_data, minPts = 5)"
   ]
  },
  {
   "cell_type": "markdown",
   "id": "e42ed85a",
   "metadata": {},
   "source": [
    "Print the result:"
   ]
  },
  {
   "cell_type": "code",
   "execution_count": 36,
   "id": "6a186f62",
   "metadata": {
    "vscode": {
     "languageId": "r"
    }
   },
   "outputs": [
    {
     "name": "stdout",
     "output_type": "stream",
     "text": [
      "HDBSCAN clustering for 408 objects.\n",
      "Parameters: minPts = 5\n",
      "The clustering contains 9 cluster(s) and 190 noise points.\n",
      "\n",
      "  0   1   2   3   4   5   6   7   8   9 \n",
      "190  10   6 113  30  22   7   9  10  11 \n",
      "\n",
      "Available fields: cluster, minPts, coredist, cluster_scores,\n",
      "                  membership_prob, outlier_scores, hc\n"
     ]
    }
   ],
   "source": [
    "print(hdbscan_result)"
   ]
  },
  {
   "cell_type": "markdown",
   "id": "9fcc89bf",
   "metadata": {},
   "source": [
    "Add cluster information to the data:"
   ]
  },
  {
   "cell_type": "code",
   "execution_count": 37,
   "id": "3b3c1b8b",
   "metadata": {
    "vscode": {
     "languageId": "r"
    }
   },
   "outputs": [],
   "source": [
    "data$cluster <- as.factor(hdbscan_result$cluster)"
   ]
  },
  {
   "cell_type": "markdown",
   "id": "86287cee",
   "metadata": {},
   "source": [
    "Plot the result using the same function as before:"
   ]
  },
  {
   "cell_type": "code",
   "execution_count": 38,
   "id": "e621d2a5",
   "metadata": {
    "vscode": {
     "languageId": "r"
    }
   },
   "outputs": [
    {
     "data": {
      "image/png": "[encoded data removed]",
      "text/plain": [
       "plot without title"
      ]
     },
     "metadata": {
      "image/png": {
       "height": 420,
       "width": 420
      }
     },
     "output_type": "display_data"
    }
   ],
   "source": [
    "# Plot the clusters\n",
    "ggplot(data, aes(x = Science.and.Engineering, y = Business, color = cluster)) +\n",
    "  geom_point() +\n",
    "  labs(title = \"HDBSCAN Clustering of Science and Engineering vs. Business\",\n",
    "       x = \"Science and Engineering\",\n",
    "       y = \"Business\") +\n",
    "  scale_color_discrete(name = \"Cluster\") +\n",
    "  theme_minimal()"
   ]
  },
  {
   "cell_type": "markdown",
   "id": "25db8fa3",
   "metadata": {},
   "source": [
    "# Assignment 4: Clustering (Optional)"
   ]
  }
 ],
 "metadata": {
  "kernelspec": {
   "display_name": "R",
   "language": "R",
   "name": "ir"
  },
  "language_info": {
   "codemirror_mode": "r",
   "file_extension": ".r",
   "mimetype": "text/x-r-source",
   "name": "R",
   "pygments_lexer": "r",
   "version": "4.4.0"
  }
 },
 "nbformat": 4,
 "nbformat_minor": 5
}
