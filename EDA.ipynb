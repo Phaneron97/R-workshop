{
 "cells": [
  {
   "cell_type": "markdown",
   "id": "815dce5c",
   "metadata": {},
   "source": [
    "title: \"R Workshop: Exploratory Data Analysis\"<br>\n",
    "authors: \"Group 2\"<br>\n",
    "date: \"2024-05\"<br>\n"
   ]
  },
  {
   "cell_type": "markdown",
   "id": "fe5b3777",
   "metadata": {},
   "source": [
    "# Introduction\n",
    "In this part of the workshop, we are going to use R language to analyze, filter, group, and plot data.\n",
    "\n",
    "## Loading packages\n",
    "First, we have to install packages (if not already installed).\n",
    "The packages we are going to use are tidyverse, ggplot2, dplyr, and magrittr.\n",
    "\n",
    "tidyverse: This is a collection of R packages designed for data science. It includes some datasets too.\n",
    "\n",
    "ggplot2: This package is used for creating elegant and complex data visualizations.\n",
    "\n",
    "dplyr: This package provides a set of functions for data manipulation tasks such as filtering, grouping, summarizing, and mutating data frames.\n",
    "\n",
    "magrittr: This package provides the pipe operator %>%, which allows you to chain together multiple operations.\n",
    "\n",
    "To install a package, use install.packages(\"name of package\") in the console or terminal below. You only have to do this once."
   ]
  },
  {
   "cell_type": "code",
   "execution_count": 1,
   "id": "4f20f315",
   "metadata": {
    "vscode": {
     "languageId": "r"
    }
   },
   "outputs": [
    {
     "name": "stderr",
     "output_type": "stream",
     "text": [
      "Installing package into 'C:/Users/basti/AppData/Local/R/win-library/4.4'\n",
      "(as 'lib' is unspecified)\n",
      "\n",
      "also installing the dependencies 'colorspace', 'sys', 'bit', 'ps', 'sass', 'cachem', 'farver', 'labeling', 'munsell', 'RColorBrewer', 'viridisLite', 'rappdirs', 'rematch', 'askpass', 'bit64', 'prettyunits', 'processx', 'highr', 'xfun', 'yaml', 'bslib', 'fontawesome', 'jquerylib', 'tinytex', 'backports', 'generics', 'memoise', 'blob', 'DBI', 'R6', 'tidyselect', 'withr', 'data.table', 'gtable', 'isoband', 'scales', 'gargle', 'cellranger', 'curl', 'ids', 'rematch2', 'cpp11', 'pkgconfig', 'mime', 'openssl', 'timechange', 'systemfonts', 'textshaping', 'clipr', 'vroom', 'tzdb', 'progress', 'callr', 'fs', 'knitr', 'rmarkdown', 'selectr', 'stringi', 'broom', 'conflicted', 'dbplyr', 'dplyr', 'dtplyr', 'forcats', 'ggplot2', 'googledrive', 'googlesheets4', 'haven', 'hms', 'httr', 'lubridate', 'magrittr', 'modelr', 'purrr', 'ragg', 'readr', 'readxl', 'reprex', 'rstudioapi', 'rvest', 'stringr', 'tibble', 'tidyr', 'xml2'\n",
      "\n",
      "\n"
     ]
    },
    {
     "name": "stdout",
     "output_type": "stream",
     "text": [
      "package 'colorspace' successfully unpacked and MD5 sums checked\n",
      "package 'sys' successfully unpacked and MD5 sums checked\n",
      "package 'bit' successfully unpacked and MD5 sums checked\n",
      "package 'ps' successfully unpacked and MD5 sums checked\n",
      "package 'sass' successfully unpacked and MD5 sums checked\n",
      "package 'cachem' successfully unpacked and MD5 sums checked\n",
      "package 'farver' successfully unpacked and MD5 sums checked\n",
      "package 'labeling' successfully unpacked and MD5 sums checked\n",
      "package 'munsell' successfully unpacked and MD5 sums checked\n",
      "package 'RColorBrewer' successfully unpacked and MD5 sums checked\n",
      "package 'viridisLite' successfully unpacked and MD5 sums checked\n",
      "package 'rappdirs' successfully unpacked and MD5 sums checked\n",
      "package 'rematch' successfully unpacked and MD5 sums checked\n",
      "package 'askpass' successfully unpacked and MD5 sums checked\n",
      "package 'bit64' successfully unpacked and MD5 sums checked\n",
      "package 'prettyunits' successfully unpacked and MD5 sums checked\n",
      "package 'processx' successfully unpacked and MD5 sums checked\n",
      "package 'highr' successfully unpacked and MD5 sums checked\n",
      "package 'xfun' successfully unpacked and MD5 sums checked\n",
      "package 'yaml' successfully unpacked and MD5 sums checked\n",
      "package 'bslib' successfully unpacked and MD5 sums checked\n",
      "package 'fontawesome' successfully unpacked and MD5 sums checked\n",
      "package 'jquerylib' successfully unpacked and MD5 sums checked\n",
      "package 'tinytex' successfully unpacked and MD5 sums checked\n",
      "package 'backports' successfully unpacked and MD5 sums checked\n",
      "package 'generics' successfully unpacked and MD5 sums checked\n",
      "package 'memoise' successfully unpacked and MD5 sums checked\n",
      "package 'blob' successfully unpacked and MD5 sums checked\n",
      "package 'DBI' successfully unpacked and MD5 sums checked\n",
      "package 'R6' successfully unpacked and MD5 sums checked\n",
      "package 'tidyselect' successfully unpacked and MD5 sums checked\n",
      "package 'withr' successfully unpacked and MD5 sums checked\n",
      "package 'data.table' successfully unpacked and MD5 sums checked\n",
      "package 'gtable' successfully unpacked and MD5 sums checked\n",
      "package 'isoband' successfully unpacked and MD5 sums checked\n",
      "package 'scales' successfully unpacked and MD5 sums checked\n",
      "package 'gargle' successfully unpacked and MD5 sums checked\n",
      "package 'cellranger' successfully unpacked and MD5 sums checked\n",
      "package 'curl' successfully unpacked and MD5 sums checked\n",
      "package 'ids' successfully unpacked and MD5 sums checked\n",
      "package 'rematch2' successfully unpacked and MD5 sums checked\n",
      "package 'cpp11' successfully unpacked and MD5 sums checked\n",
      "package 'pkgconfig' successfully unpacked and MD5 sums checked\n",
      "package 'mime' successfully unpacked and MD5 sums checked\n",
      "package 'openssl' successfully unpacked and MD5 sums checked\n",
      "package 'timechange' successfully unpacked and MD5 sums checked\n",
      "package 'systemfonts' successfully unpacked and MD5 sums checked\n",
      "package 'textshaping' successfully unpacked and MD5 sums checked\n",
      "package 'clipr' successfully unpacked and MD5 sums checked\n",
      "package 'vroom' successfully unpacked and MD5 sums checked\n",
      "package 'tzdb' successfully unpacked and MD5 sums checked\n",
      "package 'progress' successfully unpacked and MD5 sums checked\n",
      "package 'callr' successfully unpacked and MD5 sums checked\n",
      "package 'fs' successfully unpacked and MD5 sums checked\n",
      "package 'knitr' successfully unpacked and MD5 sums checked\n",
      "package 'rmarkdown' successfully unpacked and MD5 sums checked\n",
      "package 'selectr' successfully unpacked and MD5 sums checked\n",
      "package 'stringi' successfully unpacked and MD5 sums checked\n",
      "package 'broom' successfully unpacked and MD5 sums checked\n",
      "package 'conflicted' successfully unpacked and MD5 sums checked\n",
      "package 'dbplyr' successfully unpacked and MD5 sums checked\n",
      "package 'dplyr' successfully unpacked and MD5 sums checked\n",
      "package 'dtplyr' successfully unpacked and MD5 sums checked\n",
      "package 'forcats' successfully unpacked and MD5 sums checked\n",
      "package 'ggplot2' successfully unpacked and MD5 sums checked\n",
      "package 'googledrive' successfully unpacked and MD5 sums checked\n",
      "package 'googlesheets4' successfully unpacked and MD5 sums checked\n",
      "package 'haven' successfully unpacked and MD5 sums checked\n",
      "package 'hms' successfully unpacked and MD5 sums checked\n",
      "package 'httr' successfully unpacked and MD5 sums checked\n",
      "package 'lubridate' successfully unpacked and MD5 sums checked\n",
      "package 'magrittr' successfully unpacked and MD5 sums checked\n",
      "package 'modelr' successfully unpacked and MD5 sums checked\n",
      "package 'purrr' successfully unpacked and MD5 sums checked\n",
      "package 'ragg' successfully unpacked and MD5 sums checked\n",
      "package 'readr' successfully unpacked and MD5 sums checked\n",
      "package 'readxl' successfully unpacked and MD5 sums checked\n",
      "package 'reprex' successfully unpacked and MD5 sums checked\n",
      "package 'rstudioapi' successfully unpacked and MD5 sums checked\n",
      "package 'rvest' successfully unpacked and MD5 sums checked\n",
      "package 'stringr' successfully unpacked and MD5 sums checked\n",
      "package 'tibble' successfully unpacked and MD5 sums checked\n",
      "package 'tidyr' successfully unpacked and MD5 sums checked\n",
      "package 'xml2' successfully unpacked and MD5 sums checked\n",
      "package 'tidyverse' successfully unpacked and MD5 sums checked\n",
      "\n",
      "The downloaded binary packages are in\n",
      "\tC:\\Users\\basti\\AppData\\Local\\Temp\\RtmpcDXMl0\\downloaded_packages\n"
     ]
    },
    {
     "name": "stderr",
     "output_type": "stream",
     "text": [
      "Installing package into 'C:/Users/basti/AppData/Local/R/win-library/4.4'\n",
      "(as 'lib' is unspecified)\n",
      "\n"
     ]
    },
    {
     "name": "stdout",
     "output_type": "stream",
     "text": [
      "package 'ggplot2' successfully unpacked and MD5 sums checked\n",
      "\n",
      "The downloaded binary packages are in\n",
      "\tC:\\Users\\basti\\AppData\\Local\\Temp\\RtmpcDXMl0\\downloaded_packages\n"
     ]
    },
    {
     "name": "stderr",
     "output_type": "stream",
     "text": [
      "Installing package into 'C:/Users/basti/AppData/Local/R/win-library/4.4'\n",
      "(as 'lib' is unspecified)\n",
      "\n"
     ]
    },
    {
     "name": "stdout",
     "output_type": "stream",
     "text": [
      "package 'dplyr' successfully unpacked and MD5 sums checked\n",
      "\n",
      "The downloaded binary packages are in\n",
      "\tC:\\Users\\basti\\AppData\\Local\\Temp\\RtmpcDXMl0\\downloaded_packages\n"
     ]
    },
    {
     "name": "stderr",
     "output_type": "stream",
     "text": [
      "Installing package into 'C:/Users/basti/AppData/Local/R/win-library/4.4'\n",
      "(as 'lib' is unspecified)\n",
      "\n"
     ]
    },
    {
     "name": "stdout",
     "output_type": "stream",
     "text": [
      "package 'magrittr' successfully unpacked and MD5 sums checked\n",
      "\n",
      "The downloaded binary packages are in\n",
      "\tC:\\Users\\basti\\AppData\\Local\\Temp\\RtmpcDXMl0\\downloaded_packages\n"
     ]
    }
   ],
   "source": [
    "install.packages(\"tidyverse\")\n",
    "install.packages(\"ggplot2\")\n",
    "install.packages(\"dplyr\")\n",
    "install.packages(\"magrittr\")"
   ]
  },
  {
   "cell_type": "markdown",
   "id": "3771d7e0",
   "metadata": {},
   "source": [
    "\n",
    "To run a cell, click on the run button.\n",
    "\n",
    "After installing the packages, we should include or import them to use them later"
   ]
  },
  {
   "cell_type": "code",
   "execution_count": 2,
   "id": "4db5d87e",
   "metadata": {
    "vscode": {
     "languageId": "r"
    }
   },
   "outputs": [
    {
     "name": "stderr",
     "output_type": "stream",
     "text": [
      "── \u001b[1mAttaching core tidyverse packages\u001b[22m ──────────────────────── tidyverse 2.0.0 ──\n",
      "\u001b[32m✔\u001b[39m \u001b[34mdplyr    \u001b[39m 1.1.4     \u001b[32m✔\u001b[39m \u001b[34mreadr    \u001b[39m 2.1.5\n",
      "\u001b[32m✔\u001b[39m \u001b[34mforcats  \u001b[39m 1.0.0     \u001b[32m✔\u001b[39m \u001b[34mstringr  \u001b[39m 1.5.1\n",
      "\u001b[32m✔\u001b[39m \u001b[34mggplot2  \u001b[39m 3.5.1     \u001b[32m✔\u001b[39m \u001b[34mtibble   \u001b[39m 3.2.1\n",
      "\u001b[32m✔\u001b[39m \u001b[34mlubridate\u001b[39m 1.9.3     \u001b[32m✔\u001b[39m \u001b[34mtidyr    \u001b[39m 1.3.1\n",
      "\u001b[32m✔\u001b[39m \u001b[34mpurrr    \u001b[39m 1.0.2     \n",
      "── \u001b[1mConflicts\u001b[22m ────────────────────────────────────────── tidyverse_conflicts() ──\n",
      "\u001b[31m✖\u001b[39m \u001b[34mdplyr\u001b[39m::\u001b[32mfilter()\u001b[39m masks \u001b[34mstats\u001b[39m::filter()\n",
      "\u001b[31m✖\u001b[39m \u001b[34mdplyr\u001b[39m::\u001b[32mlag()\u001b[39m    masks \u001b[34mstats\u001b[39m::lag()\n",
      "\u001b[36mℹ\u001b[39m Use the conflicted package (\u001b[3m\u001b[34m<http://conflicted.r-lib.org/>\u001b[39m\u001b[23m) to force all conflicts to become errors\n",
      "\n",
      "Attaching package: 'magrittr'\n",
      "\n",
      "\n",
      "The following object is masked from 'package:purrr':\n",
      "\n",
      "    set_names\n",
      "\n",
      "\n",
      "The following object is masked from 'package:tidyr':\n",
      "\n",
      "    extract\n",
      "\n",
      "\n"
     ]
    }
   ],
   "source": [
    "library(tidyverse)\n",
    "library(ggplot2)\n",
    "library(dplyr)\n",
    "library(magrittr)"
   ]
  },
  {
   "cell_type": "markdown",
   "id": "64947b36",
   "metadata": {},
   "source": [
    "## Loading data and initial exploring dataset\n",
    "The packages we are using have many good datasets inside them. We can use them too.\n",
    "To see their available datasets, run the following chunk:"
   ]
  },
  {
   "cell_type": "code",
   "execution_count": 3,
   "id": "8475d45b",
   "metadata": {
    "vscode": {
     "languageId": "r"
    }
   },
   "outputs": [
    {
     "name": "stdout",
     "output_type": "stream",
     "text": [
      "Data sets in package 'ggplot2':\n",
      "\n",
      "diamonds                Prices of over 50,000 round cut diamonds\n",
      "economics               US economic time series\n",
      "economics_long          US economic time series\n",
      "faithfuld               2d density estimate of Old Faithful data\n",
      "luv_colours             'colors()' in Luv space\n",
      "midwest                 Midwest demographics\n",
      "mpg                     Fuel economy data from 1999 to 2008 for 38\n",
      "                        popular models of cars\n",
      "msleep                  An updated and expanded version of the mammals\n",
      "                        sleep dataset\n",
      "presidential            Terms of 12 presidents from Eisenhower to Trump\n",
      "seals                   Vector field of seal movements\n",
      "txhousing               Housing sales in TX"
     ]
    }
   ],
   "source": [
    "data(package = \"ggplot2\")"
   ]
  },
  {
   "cell_type": "markdown",
   "id": "eb24afc2",
   "metadata": {},
   "source": [
    "We can also load data from a csv file and use it.\n",
    "We are going to use Bachelor_Degrees_Majors.csv dataset which consists of information about number of college students in the US for different states. \n"
   ]
  },
  {
   "cell_type": "code",
   "execution_count": 4,
   "id": "e5f64c40",
   "metadata": {
    "vscode": {
     "languageId": "r"
    }
   },
   "outputs": [],
   "source": [
    "# View the first few rows of the dataset\n",
    "data <- read.csv(\"Bachelor_Degrees_Majors.csv\")"
   ]
  },
  {
   "cell_type": "code",
   "execution_count": 5,
   "id": "ff5525aa",
   "metadata": {
    "vscode": {
     "languageId": "r"
    }
   },
   "outputs": [
    {
     "data": {
      "text/html": [
       "<table class=\"dataframe\">\n",
       "<caption>A data.frame: 6 × 9</caption>\n",
       "<thead>\n",
       "\t<tr><th></th><th scope=col>State</th><th scope=col>Sex</th><th scope=col>Age.Group</th><th scope=col>Bachelor.s.Degree.Holders</th><th scope=col>Science.and.Engineering</th><th scope=col>Science.and.Engineering.Related.Fields</th><th scope=col>Business</th><th scope=col>Education</th><th scope=col>Arts..Humanities.and.Others</th></tr>\n",
       "\t<tr><th></th><th scope=col>&lt;chr&gt;</th><th scope=col>&lt;chr&gt;</th><th scope=col>&lt;chr&gt;</th><th scope=col>&lt;chr&gt;</th><th scope=col>&lt;chr&gt;</th><th scope=col>&lt;chr&gt;</th><th scope=col>&lt;chr&gt;</th><th scope=col>&lt;chr&gt;</th><th scope=col>&lt;chr&gt;</th></tr>\n",
       "</thead>\n",
       "<tbody>\n",
       "\t<tr><th scope=row>1</th><td>Alabama</td><td>Total</td><td>25 and older</td><td>885,357</td><td>263,555</td><td>98,445</td><td>210,147</td><td>141,071</td><td>172,139</td></tr>\n",
       "\t<tr><th scope=row>2</th><td>Alabama</td><td>Total</td><td>25 to 39    </td><td>268,924</td><td>90,736 </td><td>32,378</td><td>58,515 </td><td>29,342 </td><td>57,953 </td></tr>\n",
       "\t<tr><th scope=row>3</th><td>Alabama</td><td>Total</td><td>40 to 64    </td><td>418,480</td><td>115,762</td><td>46,724</td><td>112,271</td><td>63,875 </td><td>79,848 </td></tr>\n",
       "\t<tr><th scope=row>4</th><td>Alabama</td><td>Total</td><td>65 and older</td><td>197,953</td><td>57,057 </td><td>19,343</td><td>39,361 </td><td>47,854 </td><td>34,338 </td></tr>\n",
       "\t<tr><th scope=row>5</th><td>Alabama</td><td>Male </td><td>25 and older</td><td>405,618</td><td>159,366</td><td>26,004</td><td>113,909</td><td>29,490 </td><td>76,849 </td></tr>\n",
       "\t<tr><th scope=row>6</th><td>Alabama</td><td>Male </td><td>25 to 39    </td><td>117,794</td><td>50,188 </td><td>7,712 </td><td>29,859 </td><td>6,357  </td><td>23,678 </td></tr>\n",
       "</tbody>\n",
       "</table>\n"
      ],
      "text/latex": [
       "A data.frame: 6 × 9\n",
       "\\begin{tabular}{r|lllllllll}\n",
       "  & State & Sex & Age.Group & Bachelor.s.Degree.Holders & Science.and.Engineering & Science.and.Engineering.Related.Fields & Business & Education & Arts..Humanities.and.Others\\\\\n",
       "  & <chr> & <chr> & <chr> & <chr> & <chr> & <chr> & <chr> & <chr> & <chr>\\\\\n",
       "\\hline\n",
       "\t1 & Alabama & Total & 25 and older & 885,357 & 263,555 & 98,445 & 210,147 & 141,071 & 172,139\\\\\n",
       "\t2 & Alabama & Total & 25 to 39     & 268,924 & 90,736  & 32,378 & 58,515  & 29,342  & 57,953 \\\\\n",
       "\t3 & Alabama & Total & 40 to 64     & 418,480 & 115,762 & 46,724 & 112,271 & 63,875  & 79,848 \\\\\n",
       "\t4 & Alabama & Total & 65 and older & 197,953 & 57,057  & 19,343 & 39,361  & 47,854  & 34,338 \\\\\n",
       "\t5 & Alabama & Male  & 25 and older & 405,618 & 159,366 & 26,004 & 113,909 & 29,490  & 76,849 \\\\\n",
       "\t6 & Alabama & Male  & 25 to 39     & 117,794 & 50,188  & 7,712  & 29,859  & 6,357   & 23,678 \\\\\n",
       "\\end{tabular}\n"
      ],
      "text/markdown": [
       "\n",
       "A data.frame: 6 × 9\n",
       "\n",
       "| <!--/--> | State &lt;chr&gt; | Sex &lt;chr&gt; | Age.Group &lt;chr&gt; | Bachelor.s.Degree.Holders &lt;chr&gt; | Science.and.Engineering &lt;chr&gt; | Science.and.Engineering.Related.Fields &lt;chr&gt; | Business &lt;chr&gt; | Education &lt;chr&gt; | Arts..Humanities.and.Others &lt;chr&gt; |\n",
       "|---|---|---|---|---|---|---|---|---|---|\n",
       "| 1 | Alabama | Total | 25 and older | 885,357 | 263,555 | 98,445 | 210,147 | 141,071 | 172,139 |\n",
       "| 2 | Alabama | Total | 25 to 39     | 268,924 | 90,736  | 32,378 | 58,515  | 29,342  | 57,953  |\n",
       "| 3 | Alabama | Total | 40 to 64     | 418,480 | 115,762 | 46,724 | 112,271 | 63,875  | 79,848  |\n",
       "| 4 | Alabama | Total | 65 and older | 197,953 | 57,057  | 19,343 | 39,361  | 47,854  | 34,338  |\n",
       "| 5 | Alabama | Male  | 25 and older | 405,618 | 159,366 | 26,004 | 113,909 | 29,490  | 76,849  |\n",
       "| 6 | Alabama | Male  | 25 to 39     | 117,794 | 50,188  | 7,712  | 29,859  | 6,357   | 23,678  |\n",
       "\n"
      ],
      "text/plain": [
       "  State   Sex   Age.Group    Bachelor.s.Degree.Holders Science.and.Engineering\n",
       "1 Alabama Total 25 and older 885,357                   263,555                \n",
       "2 Alabama Total 25 to 39     268,924                   90,736                 \n",
       "3 Alabama Total 40 to 64     418,480                   115,762                \n",
       "4 Alabama Total 65 and older 197,953                   57,057                 \n",
       "5 Alabama Male  25 and older 405,618                   159,366                \n",
       "6 Alabama Male  25 to 39     117,794                   50,188                 \n",
       "  Science.and.Engineering.Related.Fields Business Education\n",
       "1 98,445                                 210,147  141,071  \n",
       "2 32,378                                 58,515   29,342   \n",
       "3 46,724                                 112,271  63,875   \n",
       "4 19,343                                 39,361   47,854   \n",
       "5 26,004                                 113,909  29,490   \n",
       "6 7,712                                  29,859   6,357    \n",
       "  Arts..Humanities.and.Others\n",
       "1 172,139                    \n",
       "2 57,953                     \n",
       "3 79,848                     \n",
       "4 34,338                     \n",
       "5 76,849                     \n",
       "6 23,678                     "
      ]
     },
     "metadata": {},
     "output_type": "display_data"
    },
    {
     "name": "stdout",
     "output_type": "stream",
     "text": [
      "'data.frame':\t612 obs. of  9 variables:\n",
      " $ State                                 : chr  \"Alabama\" \"Alabama\" \"Alabama\" \"Alabama\" ...\n",
      " $ Sex                                   : chr  \"Total\" \"Total\" \"Total\" \"Total\" ...\n",
      " $ Age.Group                             : chr  \"25 and older\" \"25 to 39\" \"40 to 64\" \"65 and older\" ...\n",
      " $ Bachelor.s.Degree.Holders             : chr  \"885,357\" \"268,924\" \"418,480\" \"197,953\" ...\n",
      " $ Science.and.Engineering               : chr  \"263,555\" \"90,736\" \"115,762\" \"57,057\" ...\n",
      " $ Science.and.Engineering.Related.Fields: chr  \"98,445\" \"32,378\" \"46,724\" \"19,343\" ...\n",
      " $ Business                              : chr  \"210,147\" \"58,515\" \"112,271\" \"39,361\" ...\n",
      " $ Education                             : chr  \"141,071\" \"29,342\" \"63,875\" \"47,854\" ...\n",
      " $ Arts..Humanities.and.Others           : chr  \"172,139\" \"57,953\" \"79,848\" \"34,338\" ...\n"
     ]
    }
   ],
   "source": [
    "# View the first few rows of the dataset\n",
    "head(data)\n",
    "str(data)"
   ]
  },
  {
   "cell_type": "markdown",
   "id": "43096226",
   "metadata": {},
   "source": [
    "Some of the columns of this dataset are numbers some of them are categories. So, we convert them to factor and number:\n"
   ]
  },
  {
   "cell_type": "code",
   "execution_count": 6,
   "id": "048f5884",
   "metadata": {
    "vscode": {
     "languageId": "r"
    }
   },
   "outputs": [],
   "source": [
    "# Ensure column names match exactly\n",
    "numeric_cols <- c(\"Bachelor.s.Degree.Holders\", \"Science.and.Engineering\", \"Science.and.Engineering.Related.Fields\", \"Business\", \"Education\", \"Arts..Humanities.and.Others\")\n",
    "data[, numeric_cols] <- lapply(data[, numeric_cols], function(x) as.numeric(gsub(\",\", \"\", x)))\n",
    "# 885,357 => 885357"
   ]
  },
  {
   "cell_type": "markdown",
   "id": "e04f93ee",
   "metadata": {},
   "source": [
    "Total is redundant so we should remove rows with Sex=Total. "
   ]
  },
  {
   "cell_type": "code",
   "execution_count": 7,
   "id": "02270b17",
   "metadata": {
    "vscode": {
     "languageId": "r"
    }
   },
   "outputs": [],
   "source": [
    "# in dataset, we have male, female, and total (which is sum of male and female). SO, rows with Sex == \"Total\" are redudant. Since we don't want to show them in our plots, we remove them.\n",
    "data <- data %>% \n",
    "  filter(Sex != \"Total\")"
   ]
  },
  {
   "cell_type": "code",
   "execution_count": 8,
   "id": "19ce85ee",
   "metadata": {
    "vscode": {
     "languageId": "r"
    }
   },
   "outputs": [
    {
     "data": {
      "text/html": [
       "<table class=\"dataframe\">\n",
       "<caption>A data.frame: 6 × 9</caption>\n",
       "<thead>\n",
       "\t<tr><th></th><th scope=col>State</th><th scope=col>Sex</th><th scope=col>Age.Group</th><th scope=col>Bachelor.s.Degree.Holders</th><th scope=col>Science.and.Engineering</th><th scope=col>Science.and.Engineering.Related.Fields</th><th scope=col>Business</th><th scope=col>Education</th><th scope=col>Arts..Humanities.and.Others</th></tr>\n",
       "\t<tr><th></th><th scope=col>&lt;chr&gt;</th><th scope=col>&lt;chr&gt;</th><th scope=col>&lt;chr&gt;</th><th scope=col>&lt;dbl&gt;</th><th scope=col>&lt;dbl&gt;</th><th scope=col>&lt;dbl&gt;</th><th scope=col>&lt;dbl&gt;</th><th scope=col>&lt;dbl&gt;</th><th scope=col>&lt;dbl&gt;</th></tr>\n",
       "</thead>\n",
       "<tbody>\n",
       "\t<tr><th scope=row>1</th><td>Alabama</td><td>Male  </td><td>25 and older</td><td>405618</td><td>159366</td><td>26004</td><td>113909</td><td> 29490</td><td>76849</td></tr>\n",
       "\t<tr><th scope=row>2</th><td>Alabama</td><td>Male  </td><td>25 to 39    </td><td>117794</td><td> 50188</td><td> 7712</td><td> 29859</td><td>  6357</td><td>23678</td></tr>\n",
       "\t<tr><th scope=row>3</th><td>Alabama</td><td>Male  </td><td>40 to 64    </td><td>184328</td><td> 67977</td><td>12331</td><td> 54931</td><td> 12820</td><td>36269</td></tr>\n",
       "\t<tr><th scope=row>4</th><td>Alabama</td><td>Male  </td><td>65 and older</td><td>103496</td><td> 41201</td><td> 5961</td><td> 29119</td><td> 10313</td><td>16902</td></tr>\n",
       "\t<tr><th scope=row>5</th><td>Alabama</td><td>Female</td><td>25 and older</td><td>479739</td><td>104189</td><td>72441</td><td> 96238</td><td>111581</td><td>95290</td></tr>\n",
       "\t<tr><th scope=row>6</th><td>Alabama</td><td>Female</td><td>25 to 39    </td><td>151130</td><td> 40548</td><td>24666</td><td> 28656</td><td> 22985</td><td>34275</td></tr>\n",
       "</tbody>\n",
       "</table>\n"
      ],
      "text/latex": [
       "A data.frame: 6 × 9\n",
       "\\begin{tabular}{r|lllllllll}\n",
       "  & State & Sex & Age.Group & Bachelor.s.Degree.Holders & Science.and.Engineering & Science.and.Engineering.Related.Fields & Business & Education & Arts..Humanities.and.Others\\\\\n",
       "  & <chr> & <chr> & <chr> & <dbl> & <dbl> & <dbl> & <dbl> & <dbl> & <dbl>\\\\\n",
       "\\hline\n",
       "\t1 & Alabama & Male   & 25 and older & 405618 & 159366 & 26004 & 113909 &  29490 & 76849\\\\\n",
       "\t2 & Alabama & Male   & 25 to 39     & 117794 &  50188 &  7712 &  29859 &   6357 & 23678\\\\\n",
       "\t3 & Alabama & Male   & 40 to 64     & 184328 &  67977 & 12331 &  54931 &  12820 & 36269\\\\\n",
       "\t4 & Alabama & Male   & 65 and older & 103496 &  41201 &  5961 &  29119 &  10313 & 16902\\\\\n",
       "\t5 & Alabama & Female & 25 and older & 479739 & 104189 & 72441 &  96238 & 111581 & 95290\\\\\n",
       "\t6 & Alabama & Female & 25 to 39     & 151130 &  40548 & 24666 &  28656 &  22985 & 34275\\\\\n",
       "\\end{tabular}\n"
      ],
      "text/markdown": [
       "\n",
       "A data.frame: 6 × 9\n",
       "\n",
       "| <!--/--> | State &lt;chr&gt; | Sex &lt;chr&gt; | Age.Group &lt;chr&gt; | Bachelor.s.Degree.Holders &lt;dbl&gt; | Science.and.Engineering &lt;dbl&gt; | Science.and.Engineering.Related.Fields &lt;dbl&gt; | Business &lt;dbl&gt; | Education &lt;dbl&gt; | Arts..Humanities.and.Others &lt;dbl&gt; |\n",
       "|---|---|---|---|---|---|---|---|---|---|\n",
       "| 1 | Alabama | Male   | 25 and older | 405618 | 159366 | 26004 | 113909 |  29490 | 76849 |\n",
       "| 2 | Alabama | Male   | 25 to 39     | 117794 |  50188 |  7712 |  29859 |   6357 | 23678 |\n",
       "| 3 | Alabama | Male   | 40 to 64     | 184328 |  67977 | 12331 |  54931 |  12820 | 36269 |\n",
       "| 4 | Alabama | Male   | 65 and older | 103496 |  41201 |  5961 |  29119 |  10313 | 16902 |\n",
       "| 5 | Alabama | Female | 25 and older | 479739 | 104189 | 72441 |  96238 | 111581 | 95290 |\n",
       "| 6 | Alabama | Female | 25 to 39     | 151130 |  40548 | 24666 |  28656 |  22985 | 34275 |\n",
       "\n"
      ],
      "text/plain": [
       "  State   Sex    Age.Group    Bachelor.s.Degree.Holders Science.and.Engineering\n",
       "1 Alabama Male   25 and older 405618                    159366                 \n",
       "2 Alabama Male   25 to 39     117794                     50188                 \n",
       "3 Alabama Male   40 to 64     184328                     67977                 \n",
       "4 Alabama Male   65 and older 103496                     41201                 \n",
       "5 Alabama Female 25 and older 479739                    104189                 \n",
       "6 Alabama Female 25 to 39     151130                     40548                 \n",
       "  Science.and.Engineering.Related.Fields Business Education\n",
       "1 26004                                  113909    29490   \n",
       "2  7712                                   29859     6357   \n",
       "3 12331                                   54931    12820   \n",
       "4  5961                                   29119    10313   \n",
       "5 72441                                   96238   111581   \n",
       "6 24666                                   28656    22985   \n",
       "  Arts..Humanities.and.Others\n",
       "1 76849                      \n",
       "2 23678                      \n",
       "3 36269                      \n",
       "4 16902                      \n",
       "5 95290                      \n",
       "6 34275                      "
      ]
     },
     "metadata": {},
     "output_type": "display_data"
    }
   ],
   "source": [
    "# View the first few rows of the dataset\n",
    "head(data)"
   ]
  },
  {
   "cell_type": "code",
   "execution_count": 9,
   "id": "acfcde40",
   "metadata": {
    "vscode": {
     "languageId": "r"
    }
   },
   "outputs": [
    {
     "name": "stdout",
     "output_type": "stream",
     "text": [
      "'data.frame':\t408 obs. of  9 variables:\n",
      " $ State                                 : chr  \"Alabama\" \"Alabama\" \"Alabama\" \"Alabama\" ...\n",
      " $ Sex                                   : chr  \"Male\" \"Male\" \"Male\" \"Male\" ...\n",
      " $ Age.Group                             : chr  \"25 and older\" \"25 to 39\" \"40 to 64\" \"65 and older\" ...\n",
      " $ Bachelor.s.Degree.Holders             : num  405618 117794 184328 103496 479739 ...\n",
      " $ Science.and.Engineering               : num  159366 50188 67977 41201 104189 ...\n",
      " $ Science.and.Engineering.Related.Fields: num  26004 7712 12331 5961 72441 ...\n",
      " $ Business                              : num  113909 29859 54931 29119 96238 ...\n",
      " $ Education                             : num  29490 6357 12820 10313 111581 ...\n",
      " $ Arts..Humanities.and.Others           : num  76849 23678 36269 16902 95290 ...\n"
     ]
    }
   ],
   "source": [
    "# Display the structure of the dataset\n",
    "str(data)"
   ]
  },
  {
   "cell_type": "code",
   "execution_count": 10,
   "id": "8f21d165",
   "metadata": {
    "vscode": {
     "languageId": "r"
    }
   },
   "outputs": [
    {
     "data": {
      "text/plain": [
       "    State               Sex             Age.Group        \n",
       " Length:408         Length:408         Length:408        \n",
       " Class :character   Class :character   Class :character  \n",
       " Mode  :character   Mode  :character   Mode  :character  \n",
       "                                                         \n",
       "                                                         \n",
       "                                                         \n",
       " Bachelor.s.Degree.Holders Science.and.Engineering\n",
       " Min.   :  13067           Min.   :   1629        \n",
       " 1st Qu.:  73831           1st Qu.:  22405        \n",
       " Median : 181667           Median :  55263        \n",
       " Mean   : 365204           Mean   : 129276        \n",
       " 3rd Qu.: 433020           3rd Qu.: 150703        \n",
       " Max.   :4868520           Max.   :2275829        \n",
       " Science.and.Engineering.Related.Fields    Business        Education     \n",
       " Min.   :   623                         Min.   :   959   Min.   :   461  \n",
       " 1st Qu.:  6755                         1st Qu.: 12428   1st Qu.:  7913  \n",
       " Median : 16187                         Median : 32882   Median : 20489  \n",
       " Mean   : 35842                         Mean   : 73925   Mean   : 42892  \n",
       " 3rd Qu.: 39363                         3rd Qu.: 81793   3rd Qu.: 48921  \n",
       " Max.   :538515                         Max.   :914899   Max.   :547495  \n",
       " Arts..Humanities.and.Others\n",
       " Min.   :   1573            \n",
       " 1st Qu.:  16034            \n",
       " Median :  40796            \n",
       " Mean   :  83270            \n",
       " 3rd Qu.:  95796            \n",
       " Max.   :1429168            "
      ]
     },
     "metadata": {},
     "output_type": "display_data"
    }
   ],
   "source": [
    "# Summary statistics for numerical variables\n",
    "summary(data)"
   ]
  },
  {
   "cell_type": "markdown",
   "id": "90e0f5cc",
   "metadata": {},
   "source": [
    "# Assignment 1: EDA\n",
    "\n",
    "## Group, filter, and plot data\n",
    "Grouping in R is like using GROUP BY in SQL.\n",
    "Filtering in R is like adding conditions with WHERE in SQL.\n",
    "Plotting is rather simple and intuitive. \n",
    "\n",
    "Let's visualize the Science.and.Engineering and Business.\n",
    "The ggplot library acts in an additive way. You can add more and more to the figure. \n",
    "Task: Science.and.Engineering vs Business. Show age group as color. "
   ]
  },
  {
   "cell_type": "code",
   "execution_count": 11,
   "id": "965dadd0",
   "metadata": {
    "vscode": {
     "languageId": "r"
    }
   },
   "outputs": [
    {
     "data": {
      "image/png": "[encoded data removed]",
      "text/plain": [
       "plot without title"
      ]
     },
     "metadata": {
      "image/png": {
       "height": 420,
       "width": 420
      }
     },
     "output_type": "display_data"
    }
   ],
   "source": [
    "ggplot(data, aes(x = Science.and.Engineering, y = Business, color = Age.Group)) +\n",
    "  geom_point() +  # Add points for each data point\n",
    "  scale_color_discrete(name = \"Age Group\") +  # Custom color legend title\n",
    "  labs(x = \"Science and Engineering\", y = \"Business\") +  # Labels for x and y axes\n",
    "  ggtitle(\"Scatter Plot of Science and Engineering vs. Business\")  # Title for the plot"
   ]
  },
  {
   "cell_type": "markdown",
   "id": "4a8757bc",
   "metadata": {},
   "source": [
    "# Assignment 2: (up to 3 minues)\n",
    "Using above code as example, create a plot for a diamond carot vs its price and show its cut as color (or any other plot of your choice).\n",
    "\n",
    "We are going to learn how to do these by doing some example tasks.\n",
    "\n",
    "## Task 1:\n",
    "Compare the average Sicence and Engineering for different age groups.\n",
    "Only consider Female students.\n",
    "Plot bar chart to show the results. \n",
    "\n",
    "Let's do this with pipe %>% operator:"
   ]
  },
  {
   "cell_type": "code",
   "execution_count": 12,
   "id": "58ad950b",
   "metadata": {
    "vscode": {
     "languageId": "r"
    }
   },
   "outputs": [
    {
     "data": {
      "image/png": "[encoded data removed]",
      "text/plain": [
       "plot without title"
      ]
     },
     "metadata": {
      "image/png": {
       "height": 420,
       "width": 420
      }
     },
     "output_type": "display_data"
    }
   ],
   "source": [
    "task1 <- data %>% \n",
    "  filter(Sex == \"Female\") %>%\n",
    "  group_by(Age.Group) %>%\n",
    "  summarise(mean_sci = mean(Science.and.Engineering))\n",
    "\n",
    "ggplot(task1, aes(x = Age.Group, y = mean_sci)) +\n",
    "  geom_bar(stat = \"identity\", fill = \"skyblue\") +\n",
    "  labs(x = \"Age Group\", y = \"Mean Science and Engineering\") +\n",
    "  ggtitle(\"Mean Science and Engineering by Age Group\")"
   ]
  },
  {
   "cell_type": "markdown",
   "id": "a729efe8",
   "metadata": {},
   "source": [
    "## Task 2:\n",
    "Plot Business and Education in a scatter plot for age group 25 to 39 and Sex of Male.\n"
   ]
  },
  {
   "cell_type": "code",
   "execution_count": 13,
   "id": "7f286836",
   "metadata": {
    "vscode": {
     "languageId": "r"
    }
   },
   "outputs": [
    {
     "data": {
      "image/png": "[encoded data removed]",
      "text/plain": [
       "plot without title"
      ]
     },
     "metadata": {
      "image/png": {
       "height": 420,
       "width": 420
      }
     },
     "output_type": "display_data"
    }
   ],
   "source": [
    "task2 = data %>% filter(Age.Group == \"25 to 39\" & Sex == \"Male\")\n",
    "ggplot(task2, aes(x = Business, y = Education)) +\n",
    "  geom_point() +  # Add points\n",
    "  labs(x = \"Business\", y = \"Education\") +\n",
    "  ggtitle(\"Business vs Education\")"
   ]
  },
  {
   "cell_type": "markdown",
   "id": "0e52108b",
   "metadata": {},
   "source": [
    "# Demo 2: Regression"
   ]
  },
  {
   "cell_type": "markdown",
   "id": "75bc26cb",
   "metadata": {},
   "source": [
    "# Assignment 2: Regression"
   ]
  },
  {
   "cell_type": "markdown",
   "id": "f5839863",
   "metadata": {},
   "source": [
    "# Demo 3: Classification"
   ]
  },
  {
   "cell_type": "markdown",
   "id": "09a5bf0d",
   "metadata": {},
   "source": [
    "# Assignment 3: Classification"
   ]
  }
 ],
 "metadata": {
  "kernelspec": {
   "display_name": "R",
   "language": "R",
   "name": "ir"
  },
  "language_info": {
   "codemirror_mode": "r",
   "file_extension": ".r",
   "mimetype": "text/x-r-source",
   "name": "R",
   "pygments_lexer": "r",
   "version": "4.4.0"
  }
 },
 "nbformat": 4,
 "nbformat_minor": 5
}
