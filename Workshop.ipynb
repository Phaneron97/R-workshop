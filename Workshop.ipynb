{
 "cells": [
  {
   "cell_type": "markdown",
   "id": "815dce5c",
   "metadata": {},
   "source": [
    "# R workshop\n",
    "authors: \n",
    "* Christian Wanschers \n",
    "* Bastiaan Verheul\n",
    "* Nino van Alphen\n",
    "* Sara Eftekhar Azam\n"
   ]
  },
  {
   "cell_type": "markdown",
   "id": "fe5b3777",
   "metadata": {},
   "source": [
    "# Introduction\n",
    "In this workshop, we are going to learn you the basics of R and its statistical capabilities!\n",
    "\n",
    "## Loading packages\n",
    "First, we have to install some packages.\n",
    "The packages we are going to use are:\n",
    "\n",
    "* `Tidyverse`: A collection of a(r)R packages designed for data science. It includes some example datasets too.\n",
    "* `ggplot2`: Used for creating elegant data visualizations.\n",
    "* `dplyr`: Provides a set of functions for data manipulation tasks such as filtering, grouping, summarizing, and mutating data frames.\n",
    "* `magrittr`: Provides the pipe operator %>%, which allows you to chain together multiple operations.\n",
    "\n",
    "All packages can be directly installed by running them in a .R-file or a codeblock below:"
   ]
  },
  {
   "cell_type": "code",
   "execution_count": null,
   "id": "4f20f315",
   "metadata": {
    "vscode": {
     "languageId": "r"
    }
   },
   "outputs": [],
   "source": [
    "install.packages(\"tidyverse\")\n",
    "install.packages(\"ggplot2\")\n",
    "install.packages(\"dplyr\")\n",
    "install.packages(\"magrittr\")"
   ]
  },
  {
   "cell_type": "markdown",
   "id": "3771d7e0",
   "metadata": {},
   "source": [
    "After installing the packages, we should include or import them to be able to use them later:"
   ]
  },
  {
   "cell_type": "code",
   "execution_count": null,
   "id": "4db5d87e",
   "metadata": {
    "vscode": {
     "languageId": "r"
    }
   },
   "outputs": [],
   "source": [
    "library(tidyverse)\n",
    "library(ggplot2)\n",
    "library(dplyr)\n",
    "library(magrittr)"
   ]
  },
  {
   "cell_type": "markdown",
   "id": "64947b36",
   "metadata": {},
   "source": [
    "## Loading data and initial exploring dataset\n",
    "The packages we are utilizing contain a variety of valuable datasets that can be utilized. To access these datasets, execute the following code snippet:"
   ]
  },
  {
   "cell_type": "code",
   "execution_count": null,
   "id": "8475d45b",
   "metadata": {
    "vscode": {
     "languageId": "r"
    }
   },
   "outputs": [],
   "source": [
    "data(package = \"ggplot2\")"
   ]
  },
  {
   "cell_type": "markdown",
   "id": "eb24afc2",
   "metadata": {},
   "source": [
    "we will be utilizing the `Bachelor_Degrees_Majors.csv` dataset, which contains information regarding the enrollment of college students in various states across the US. We can import the dataset with code:\n"
   ]
  },
  {
   "cell_type": "code",
   "execution_count": null,
   "id": "e5f64c40",
   "metadata": {
    "vscode": {
     "languageId": "r"
    }
   },
   "outputs": [],
   "source": [
    "data <- read.csv(\"Bachelor_Degrees_Majors.csv\")"
   ]
  },
  {
   "cell_type": "markdown",
   "id": "4faf69f7",
   "metadata": {},
   "source": [
    "Let's show the first few rows using the `head()` function:"
   ]
  },
  {
   "cell_type": "code",
   "execution_count": null,
   "id": "ff5525aa",
   "metadata": {
    "vscode": {
     "languageId": "r"
    }
   },
   "outputs": [],
   "source": [
    "head(data)"
   ]
  },
  {
   "cell_type": "markdown",
   "id": "43096226",
   "metadata": {},
   "source": [
    "We need to convert the character variables to factors, we also need to remove the commas by converting the columns to numeric type. We can do this with code:\n"
   ]
  },
  {
   "cell_type": "code",
   "execution_count": null,
   "id": "048f5884",
   "metadata": {
    "vscode": {
     "languageId": "r"
    }
   },
   "outputs": [],
   "source": [
    "numeric_cols <- c(\"Bachelor.s.Degree.Holders\", \"Science.and.Engineering\", \"Science.and.Engineering.Related.Fields\", \"Business\", \"Education\", \"Arts..Humanities.and.Others\")\n",
    "data[, numeric_cols] <- lapply(data[, numeric_cols], function(x) as.numeric(gsub(\",\", \"\", x)))"
   ]
  },
  {
   "cell_type": "markdown",
   "id": "1d94d85d",
   "metadata": {},
   "source": [
    "Why not just copy/paste the columnname? This is because of naming convention used in (a)R(rr). A string may contain:\n",
    "* letters\n",
    "* numbers\n",
    "* dots\n",
    "* underscores\n",
    "* but it does **NOT** allow **spaces** and **apostrophes**, they are automagically replaced with a dot (or in older versions of R they may be replaced by an underscore)\n",
    "\n",
    "When you read a .CSV-file, R will automagically convert them to syntactically valid names!"
   ]
  },
  {
   "cell_type": "markdown",
   "id": "e04f93ee",
   "metadata": {},
   "source": [
    "Total is redundant so we should remove rows with Sex=Total. "
   ]
  },
  {
   "cell_type": "code",
   "execution_count": null,
   "id": "02270b17",
   "metadata": {
    "vscode": {
     "languageId": "r"
    }
   },
   "outputs": [],
   "source": [
    "# in dataset, we have male, female, and total (which is sum of male and female). SO, rows with Sex == \"Total\" are redudant. Since we don't want to show them in our plots, we remove them.\n",
    "data <- data %>%\n",
    "  filter(Sex != \"Total\")"
   ]
  },
  {
   "cell_type": "code",
   "execution_count": null,
   "id": "19ce85ee",
   "metadata": {
    "vscode": {
     "languageId": "r"
    }
   },
   "outputs": [],
   "source": [
    "# View the first few rows of the dataset\n",
    "head(data)"
   ]
  },
  {
   "cell_type": "code",
   "execution_count": null,
   "id": "acfcde40",
   "metadata": {
    "vscode": {
     "languageId": "r"
    }
   },
   "outputs": [],
   "source": [
    "# Display the structure of the dataset\n",
    "str(data)"
   ]
  },
  {
   "cell_type": "code",
   "execution_count": null,
   "id": "8f21d165",
   "metadata": {
    "vscode": {
     "languageId": "r"
    }
   },
   "outputs": [],
   "source": [
    "# Summary statistics for numerical variables\n",
    "summary(data)"
   ]
  },
  {
   "cell_type": "markdown",
   "id": "90e0f5cc",
   "metadata": {},
   "source": [
    "# Assignment 1: EDA\n",
    "\n",
    "## Group, filter, and plot data\n",
    "In R, grouping is similar to utilizing the `GROUP BY` clause in SQL, while filtering is akin to applying conditions with the `WHERE` clause in SQL. \n",
    "\n",
    "Creating plots in R is straightforward and user-friendly. \n",
    "\n",
    "For our current task, we will create a visualization comparing `Science and Engineering` with `Business` using the `ggplot` library. This library allows for the addition of multiple elements to the plot through color differentiation.\n",
    "\n",
    "Lets view the result of code below:"
   ]
  },
  {
   "cell_type": "code",
   "execution_count": null,
   "id": "965dadd0",
   "metadata": {
    "vscode": {
     "languageId": "r"
    }
   },
   "outputs": [],
   "source": [
    "ggplot(data, aes(x = Science.and.Engineering, y = Business, color = Age.Group)) +\n",
    "  geom_point() +  # Add points for each data point\n",
    "  scale_color_discrete(name = \"Age Group\") +  # Custom color legend title\n",
    "  labs(x = \"Science and Engineering\", y = \"Business\") +  # Labels for x and y axes\n",
    "  ggtitle(\"Scatter Plot of Science and Engineering vs. Business\")  # Title for the plot"
   ]
  },
  {
   "cell_type": "markdown",
   "id": "e935f302",
   "metadata": {},
   "source": [
    "What did the code do? \n",
    "1. `ggplot` is called, `data` passed in with on the X and Y axis the 2 columns. `Age` is used as the color differentiator.\n",
    "2. A few parameters are called in `ggplot()`:\n",
    "   * `geom_point()`: creates the scatterplot including the datapoints\n",
    "   * `scale_color_discrete()`: Within this function you can set the name of the legend\n",
    "   * `labs()`: Sets custom labels for the axes\n",
    "   * `ggtitle()`: Title of the whole graph"
   ]
  },
  {
   "cell_type": "markdown",
   "id": "4a8757bc",
   "metadata": {},
   "source": [
    "# Assignment 2\n",
    "Using above code as example, create a plot for a diamond carot vs its price and show its cut as color (or any other plot of your choice).\n",
    "\n",
    "We are going to learn how to do these by doing some example tasks.\n",
    "\n",
    "## Task 1\n",
    "Compare the average Sicence and Engineering for different age groups.\n",
    "Only consider Female students.\n",
    "Plot bar chart to show the results. \n",
    "\n",
    "Let's do this with pipe %>% operator:"
   ]
  },
  {
   "cell_type": "code",
   "execution_count": null,
   "id": "58ad950b",
   "metadata": {
    "vscode": {
     "languageId": "r"
    }
   },
   "outputs": [],
   "source": [
    "task1 <- data %>% \n",
    "  filter(Sex == \"Female\") %>%\n",
    "  group_by(Age.Group) %>%\n",
    "  summarise(mean_sci = mean(Science.and.Engineering))\n",
    "\n",
    "ggplot(task1, aes(x = Age.Group, y = mean_sci)) +\n",
    "  geom_bar(stat = \"identity\", fill = \"skyblue\") +\n",
    "  labs(x = \"Age Group\", y = \"Mean Science and Engineering\") +\n",
    "  ggtitle(\"Mean Science and Engineering by Age Group\")"
   ]
  },
  {
   "cell_type": "markdown",
   "id": "a729efe8",
   "metadata": {},
   "source": [
    "## Task 2:\n",
    "Plot Business and Education in a scatter plot for age group 25 to 39 and Sex of Male.\n"
   ]
  },
  {
   "cell_type": "code",
   "execution_count": null,
   "id": "7f286836",
   "metadata": {
    "vscode": {
     "languageId": "r"
    }
   },
   "outputs": [],
   "source": [
    "task2 = data %>% filter(Age.Group == \"25 to 39\" & Sex == \"Male\")\n",
    "ggplot(task2, aes(x = Business, y = Education)) +\n",
    "  geom_point() +  # Add points\n",
    "  labs(x = \"Business\", y = \"Education\") +\n",
    "  ggtitle(\"Business vs Education\")"
   ]
  },
  {
   "cell_type": "markdown",
   "id": "0e52108b",
   "metadata": {},
   "source": [
    "# Demo 2: Regression"
   ]
  },
  {
   "cell_type": "markdown",
   "id": "75636df6",
   "metadata": {},
   "source": [
    "We are going to analyse the relationship between the number of `Bachelors's degree holders` and the number of `Science and Engineering` using a linear regression model. "
   ]
  },
  {
   "cell_type": "markdown",
   "id": "7eed3ee3",
   "metadata": {},
   "source": [
    "First select the columns to be used in the model:"
   ]
  },
  {
   "cell_type": "code",
   "execution_count": null,
   "id": "68f547b7",
   "metadata": {
    "vscode": {
     "languageId": "r"
    }
   },
   "outputs": [],
   "source": [
    "# Select relevant columns\n",
    "selected_data <- data[, c(\"Bachelor.s.Degree.Holders\", \"Science.and.Engineering\")]"
   ]
  },
  {
   "cell_type": "markdown",
   "id": "5a65fb91",
   "metadata": {},
   "source": [
    "Convert the data to a dataframe using `as.data.frame()`:"
   ]
  },
  {
   "cell_type": "code",
   "execution_count": null,
   "id": "dc150ca9",
   "metadata": {
    "vscode": {
     "languageId": "r"
    }
   },
   "outputs": [],
   "source": [
    "selected_data <- as.data.frame(selected_data)"
   ]
  },
  {
   "cell_type": "markdown",
   "id": "6b7ee079",
   "metadata": {},
   "source": [
    "Split the data into training, testing and validation:"
   ]
  },
  {
   "cell_type": "code",
   "execution_count": null,
   "id": "081e3373",
   "metadata": {
    "vscode": {
     "languageId": "r"
    }
   },
   "outputs": [],
   "source": [
    "set.seed(123)  # For reproducibility\n",
    "sample_index <- sample(seq_len(nrow(data)), 0.7 * nrow(data))\n",
    "train_data <- data[sample_index, ]\n",
    "test_data <- data[-sample_index, ]"
   ]
  },
  {
   "cell_type": "markdown",
   "id": "795e6e44",
   "metadata": {},
   "source": [
    "Now learn the actual model:"
   ]
  },
  {
   "cell_type": "code",
   "execution_count": null,
   "id": "1ec1ed48",
   "metadata": {
    "vscode": {
     "languageId": "r"
    }
   },
   "outputs": [],
   "source": [
    "model <- lm(Bachelor.s.Degree.Holders ~ Science.and.Engineering, data = train_data)"
   ]
  },
  {
   "cell_type": "markdown",
   "id": "c77d5be6",
   "metadata": {},
   "source": [
    "Just like that? Yep, just like that. the `lm` part determines what model-algorithm is used. `lm` stands for \"linear model\"."
   ]
  },
  {
   "cell_type": "markdown",
   "id": "1cfa254b",
   "metadata": {},
   "source": [
    "We can show the performance of the model:"
   ]
  },
  {
   "cell_type": "code",
   "execution_count": null,
   "id": "6398638e",
   "metadata": {
    "vscode": {
     "languageId": "r"
    }
   },
   "outputs": [],
   "source": [
    "summary(model)"
   ]
  },
  {
   "cell_type": "markdown",
   "id": "cb9422d3",
   "metadata": {},
   "source": [
    "The `summary()` shows that the model has scored an adjusted $R^2$ of 0.9209"
   ]
  },
  {
   "cell_type": "markdown",
   "id": "b45d9f04",
   "metadata": {},
   "source": [
    "We can optionally calculate the MSE:"
   ]
  },
  {
   "cell_type": "code",
   "execution_count": null,
   "id": "286b0fad",
   "metadata": {
    "vscode": {
     "languageId": "r"
    }
   },
   "outputs": [],
   "source": [
    "mse <- mean((predictions - test_data$Bachelor.s.Degree.Holders)^2)\n",
    "print(paste(\"Mean Squared Error:\", mse))"
   ]
  },
  {
   "cell_type": "markdown",
   "id": "35f1d110",
   "metadata": {},
   "source": [
    "Using `ggplot`, we can also scatterplot the columns and include the regression line in 1 go:"
   ]
  },
  {
   "cell_type": "code",
   "execution_count": null,
   "id": "14278068",
   "metadata": {
    "vscode": {
     "languageId": "r"
    }
   },
   "outputs": [],
   "source": [
    "# Scatter plot with regression line\n",
    "ggplot(selected_data, aes(x = Science.and.Engineering, y = Bachelor.s.Degree.Holders)) +\n",
    "  geom_point() +\n",
    "  geom_smooth(method = \"lm\", se = FALSE) +\n",
    "  labs(title = \"Simple Linear Regression Analysis\",\n",
    "       x = \"Science and Engineering Degree Holders\",\n",
    "       y = \"Bachelor's Degree Holders\")"
   ]
  },
  {
   "cell_type": "markdown",
   "id": "75bc26cb",
   "metadata": {},
   "source": [
    "# Assignment 2: Regression"
   ]
  },
  {
   "cell_type": "markdown",
   "id": "93e69519",
   "metadata": {},
   "source": [
    "Instead of using a linear regression model, now it's up to you to make use of another regression model. Lets try Random Forest Regression this time. Feel free to add more blocks as required."
   ]
  },
  {
   "cell_type": "code",
   "execution_count": null,
   "id": "2d9bc8e4",
   "metadata": {
    "vscode": {
     "languageId": "r"
    }
   },
   "outputs": [],
   "source": [
    "# Install the required package\n",
    "install.packages(\"randomForest\")"
   ]
  },
  {
   "cell_type": "code",
   "execution_count": null,
   "id": "945a867e",
   "metadata": {
    "vscode": {
     "languageId": "r"
    }
   },
   "outputs": [],
   "source": [
    "# Import the randomForest library"
   ]
  },
  {
   "cell_type": "code",
   "execution_count": null,
   "id": "01b3de9d",
   "metadata": {
    "vscode": {
     "languageId": "r"
    }
   },
   "outputs": [],
   "source": [
    "# Pick 2 different columns from the dataset and convert them to numeric value"
   ]
  },
  {
   "cell_type": "code",
   "execution_count": null,
   "id": "750e1955",
   "metadata": {
    "vscode": {
     "languageId": "r"
    }
   },
   "outputs": [],
   "source": [
    "# Select the columns for regression and store in a variable"
   ]
  },
  {
   "cell_type": "code",
   "execution_count": null,
   "id": "fa3cc26f",
   "metadata": {
    "vscode": {
     "languageId": "r"
    }
   },
   "outputs": [],
   "source": [
    "# Train the RandomForest model"
   ]
  },
  {
   "cell_type": "markdown",
   "id": "f5839863",
   "metadata": {},
   "source": [
    "# Demo 3: Classification"
   ]
  },
  {
   "cell_type": "markdown",
   "id": "09a5bf0d",
   "metadata": {},
   "source": [
    "In this section, we will demonstrate how to perform classification using a simple decision tree classifier. We will predict the field of study (e.g., 'Science and Engineering', 'Business', etc.) based on the number of bachelor's degree holders. "
   ]
  },
  {
   "cell_type": "markdown",
   "id": "0d76bc01",
   "metadata": {},
   "source": [
    "First, we need to install and load the required package `rpart` for creating decision trees."
   ]
  },
  {
   "cell_type": "code",
   "execution_count": null,
   "id": "09db3568",
   "metadata": {
    "vscode": {
     "languageId": "r"
    }
   },
   "outputs": [],
   "source": [
    "install.packages(\"rpart\")\n",
    "library(rpart)"
   ]
  },
  {
   "cell_type": "markdown",
   "id": "14e95a42",
   "metadata": {},
   "source": [
    "Next, let's prepare our dataset. We will use the `data` object that was created earlier. We will select relevant columns and create a new categorical column for classification. For simplicity, we will create a binary classification problem by categorizing the `Science and Engineering` field into 'High' and 'Low' based on the median value."
   ]
  },
  {
   "cell_type": "code",
   "execution_count": null,
   "id": "45b2b53a",
   "metadata": {
    "vscode": {
     "languageId": "r"
    }
   },
   "outputs": [],
   "source": [
    "# Create a binary classification target variable\n",
    "median_sci_eng <- median(data$Science.and.Engineering, na.rm = TRUE)\n",
    "data$SciEng_Category <- ifelse(data$Science.and.Engineering >= median_sci_eng, \"High\", \"Low\")\n",
    "\n",
    "# Convert the new column to a factor\n",
    "data$SciEng_Category <- as.factor(data$SciEng_Category)"
   ]
  },
  {
   "cell_type": "markdown",
   "id": "68490a2b",
   "metadata": {},
   "source": [
    "Let's display the first few rows of the modified dataset to ensure our new column has been added correctly."
   ]
  },
  {
   "cell_type": "code",
   "execution_count": null,
   "id": "1a7a4c9b",
   "metadata": {
    "vscode": {
     "languageId": "r"
    }
   },
   "outputs": [],
   "source": [
    "head(data)"
   ]
  },
  {
   "cell_type": "markdown",
   "id": "92cfb6f7",
   "metadata": {},
   "source": [
    "Next, let's split the dataset into training and testing sets. 70% of the data will be used for training and the remaining 30% for testing."
   ]
  },
  {
   "cell_type": "code",
   "execution_count": null,
   "id": "efb4a3a8",
   "metadata": {
    "vscode": {
     "languageId": "r"
    }
   },
   "outputs": [],
   "source": [
    "set.seed(123)  # For reproducibility\n",
    "sample_index <- sample(seq_len(nrow(data)), size = 0.7 * nrow(data))\n",
    "train_data <- data[sample_index, ]\n",
    "test_data <- data[-sample_index, ]"
   ]
  },
  {
   "cell_type": "markdown",
   "id": "fe2bfbc6",
   "metadata": {},
   "source": [
    "We can now train the decision tree classifier using the `rpart` function, with `SciEng_Category` as the target variable and `Bachelor's Degree Holders` as the predictor."
   ]
  },
  {
   "cell_type": "code",
   "execution_count": null,
   "id": "9d5e0d34",
   "metadata": {
    "vscode": {
     "languageId": "r"
    }
   },
   "outputs": [],
   "source": [
    "# Train the decision tree classifier\n",
    "model <- rpart(SciEng_Category ~ Bachelor.s.Degree.Holders, data = train_data, method = \"class\")"
   ]
  },
  {
   "cell_type": "markdown",
   "id": "792b8a64",
   "metadata": {},
   "source": [
    "Let's visualize the decision tree."
   ]
  },
  {
   "cell_type": "code",
   "execution_count": null,
   "id": "99d7155f",
   "metadata": {
    "vscode": {
     "languageId": "r"
    }
   },
   "outputs": [],
   "source": [
    "library(rpart.plot)\n",
    "rpart.plot(model)"
   ]
  },
  {
   "cell_type": "markdown",
   "id": "091b5483",
   "metadata": {},
   "source": [
    "Now, let's make predictions on the test set and evaluate the model's performance."
   ]
  },
  {
   "cell_type": "code",
   "execution_count": null,
   "id": "682c1448",
   "metadata": {
    "vscode": {
     "languageId": "r"
    }
   },
   "outputs": [],
   "source": [
    "# Make predictions on the test set\n",
    "predictions <- predict(model, test_data, type = \"class\")\n",
    "\n",
    "# Evaluate the model's performance\n",
    "confusion_matrix <- table(Predicted = predictions, Actual = test_data$SciEng_Category)\n",
    "print(confusion_matrix)"
   ]
  },
  {
   "cell_type": "markdown",
   "id": "d2821cb7",
   "metadata": {},
   "source": [
    "The confusion matrix shows how well the model performs.\n",
    "\n",
    "To calculate the accuracy of the model, we can use the following code:"
   ]
  },
  {
   "cell_type": "code",
   "execution_count": null,
   "id": "52b95be2",
   "metadata": {
    "vscode": {
     "languageId": "r"
    }
   },
   "outputs": [],
   "source": [
    "# Calculate accuracy\n",
    "accuracy <- sum(diag(confusion_matrix)) / sum(confusion_matrix)\n",
    "print(paste(\"Accuracy:\", round(accuracy * 100, 2), \"%\"))"
   ]
  },
  {
   "cell_type": "markdown",
   "id": "b9156e7d",
   "metadata": {},
   "source": [
    "We have successfully built and evaluated a decision tree classifier."
   ]
  },
  {
   "cell_type": "markdown",
   "id": "09a5bf0d",
   "metadata": {},
   "source": [
    "# Assignment 3: Classification"
   ]
  },
  {
   "cell_type": "markdown",
   "id": "0c16d410",
   "metadata": {},
   "source": [
    "Using the code from the demo as an example, create a classification model using a different algorithm, such as k-Nearest Neighbors (k-NN) or Random Forest. Choose another categorical target variable and appropriate predictor variables from the dataset. Feel free to add more code blocks."
   ]
  },
  {
   "cell_type": "code",
   "execution_count": null,
   "id": "d5c8f9d8",
   "metadata": {
    "vscode": {
     "languageId": "r"
    }
   },
   "outputs": [],
   "source": [
    "# Install the required package for k-NN\n",
    "install.packages(\"class\")"
   ]
  },
  {
   "cell_type": "code",
   "execution_count": null,
   "id": "324b3f0e",
   "metadata": {
    "vscode": {
     "languageId": "r"
    }
   },
   "outputs": [],
   "source": [
    "# Import the class library for k-NN"
   ]
  },
  {
   "cell_type": "code",
   "execution_count": null,
   "id": "c71655e0",
   "metadata": {
    "vscode": {
     "languageId": "r"
    }
   },
   "outputs": [],
   "source": [
    "# Prepare the dataset for k-NN classification"
   ]
  },
  {
   "cell_type": "markdown",
   "id": "c014bf81",
   "metadata": {},
   "source": [
    "# Demo 4: Clustering"
   ]
  },
  {
   "cell_type": "markdown",
   "id": "7a0fa4ac",
   "metadata": {},
   "source": [
    "R even has the ability to do clustering, we are going to show you how to do `HDBSCAN`!"
   ]
  },
  {
   "cell_type": "markdown",
   "id": "ff0c2fe2",
   "metadata": {},
   "source": [
    "It requires just 1 extra package. code below installs and imports the required `dbscan` package:"
   ]
  },
  {
   "cell_type": "code",
   "execution_count": null,
   "id": "b6324288",
   "metadata": {
    "vscode": {
     "languageId": "r"
    }
   },
   "outputs": [],
   "source": [
    "install.packages(\"dbscan\")\n",
    "library(dbscan)"
   ]
  },
  {
   "cell_type": "markdown",
   "id": "ef3fe66f",
   "metadata": {},
   "source": [
    "Since we already prepared the dataset we can skip the preprocessing, selecting the correct columns and storing as a dataframe but just to be sure here is the complete code to do all that in 1 block:"
   ]
  },
  {
   "cell_type": "code",
   "execution_count": null,
   "id": "a68ab91d",
   "metadata": {
    "vscode": {
     "languageId": "r"
    }
   },
   "outputs": [],
   "source": [
    "# Convert necessary columns to numeric\n",
    "data$Science.and.Engineering <- as.numeric(gsub(\",\", \"\", data$Science.and.Engineering))\n",
    "data$Business <- as.numeric(gsub(\",\", \"\", data$Business))\n",
    "data <- na.omit(data)  # Remove any rows with NA values\n",
    "\n",
    "# Select columns for clustering\n",
    "selected_data <- data[, c(\"Science.and.Engineering\", \"Business\")]"
   ]
  },
  {
   "cell_type": "markdown",
   "id": "9f867db8",
   "metadata": {},
   "source": [
    "Run the actual `HDBSCAN`:"
   ]
  },
  {
   "cell_type": "code",
   "execution_count": null,
   "id": "4d9355b0",
   "metadata": {
    "vscode": {
     "languageId": "r"
    }
   },
   "outputs": [],
   "source": [
    "hdbscan_result <- hdbscan(selected_data, minPts = 5)"
   ]
  },
  {
   "cell_type": "markdown",
   "id": "e42ed85a",
   "metadata": {},
   "source": [
    "Print the result:"
   ]
  },
  {
   "cell_type": "code",
   "execution_count": null,
   "id": "6a186f62",
   "metadata": {
    "vscode": {
     "languageId": "r"
    }
   },
   "outputs": [],
   "source": [
    "print(hdbscan_result)"
   ]
  },
  {
   "cell_type": "markdown",
   "id": "9fcc89bf",
   "metadata": {},
   "source": [
    "Add cluster information to the data:"
   ]
  },
  {
   "cell_type": "code",
   "execution_count": null,
   "id": "3b3c1b8b",
   "metadata": {
    "vscode": {
     "languageId": "r"
    }
   },
   "outputs": [],
   "source": [
    "data$cluster <- as.factor(hdbscan_result$cluster)"
   ]
  },
  {
   "cell_type": "markdown",
   "id": "86287cee",
   "metadata": {},
   "source": [
    "Plot the result using the same function as before:"
   ]
  },
  {
   "cell_type": "code",
   "execution_count": null,
   "id": "e621d2a5",
   "metadata": {
    "vscode": {
     "languageId": "r"
    }
   },
   "outputs": [],
   "source": [
    "# Plot the clusters\n",
    "ggplot(data, aes(x = Science.and.Engineering, y = Business, color = cluster)) +\n",
    "  geom_point() +\n",
    "  labs(title = \"HDBSCAN Clustering of Science and Engineering vs. Business\",\n",
    "       x = \"Science and Engineering\",\n",
    "       y = \"Business\") +\n",
    "  scale_color_discrete(name = \"Cluster\") +\n",
    "  theme_minimal()"
   ]
  },
  {
   "cell_type": "markdown",
   "id": "25db8fa3",
   "metadata": {},
   "source": [
    "# Assignment 4: Clustering (Optional)"
   ]
  }
 ],
 "metadata": {
  "kernelspec": {
   "display_name": "R",
   "language": "R",
   "name": "ir"
  },
  "language_info": {
   "codemirror_mode": "r",
   "file_extension": ".r",
   "mimetype": "text/x-r-source",
   "name": "R",
   "pygments_lexer": "r",
   "version": "4.4.0"
  }
 },
 "nbformat": 4,
 "nbformat_minor": 5
}
